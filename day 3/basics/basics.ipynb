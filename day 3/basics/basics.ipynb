{
 "cells": [
  {
   "cell_type": "code",
   "execution_count": 2,
   "id": "c8279998-b332-4e63-bba3-f34671e62f48",
   "metadata": {},
   "outputs": [
    {
     "name": "stdout",
     "output_type": "stream",
     "text": [
      "Hello World\n"
     ]
    }
   ],
   "source": [
    "#simple print method\n",
    "print(\"Hello World\")"
   ]
  },
  {
   "cell_type": "code",
   "execution_count": 19,
   "id": "09cf910f-a9d2-484b-9e30-5381beae0ca5",
   "metadata": {},
   "outputs": [
    {
     "name": "stdout",
     "output_type": "stream",
     "text": [
      "Number 1:  10\n",
      "Number 2:  20.89\n",
      "Name:  Mind Sprint\n",
      "<class 'int'>\n",
      "<class 'float'>\n",
      "<class 'str'>\n"
     ]
    }
   ],
   "source": [
    "# variables\n",
    "num1=10\n",
    "num2=20.89\n",
    "name=\"Mind Sprint\"\n",
    "\n",
    "print(\"Number 1: \", num1)\n",
    "print(\"Number 2: \", num2)\n",
    "print(\"Name: \", name)\n",
    "\n",
    "print(type(num1))\n",
    "print(type(num2))\n",
    "print(type(name))"
   ]
  },
  {
   "cell_type": "code",
   "execution_count": 17,
   "id": "c20105ee-42aa-4082-8bda-71b454f79979",
   "metadata": {},
   "outputs": [
    {
     "name": "stdout",
     "output_type": "stream",
     "text": [
      "Orange\n"
     ]
    }
   ],
   "source": [
    "x, y, z = \"Orange\", \"banana\", \"Cherry\"\n",
    "print(x)"
   ]
  },
  {
   "cell_type": "code",
   "execution_count": 8,
   "id": "222371b5-b097-4ed2-8b84-cc8d5ac857cb",
   "metadata": {},
   "outputs": [
    {
     "name": "stdout",
     "output_type": "stream",
     "text": [
      "OrangebananaCherry\n"
     ]
    }
   ],
   "source": [
    "x, y, z = \"Orange\", \"banana\", \"Cherry\"\n",
    "print(x+y+z)"
   ]
  },
  {
   "cell_type": "code",
   "execution_count": 13,
   "id": "d4547dc4-1dfd-460f-ac29-529a03a067c3",
   "metadata": {},
   "outputs": [
    {
     "name": "stdout",
     "output_type": "stream",
     "text": [
      "banana cherry\n"
     ]
    }
   ],
   "source": [
    "fruits = [\"apple\", \"banana\", \"cherry\"]\n",
    "x, y, z = fruits\n",
    "print(y,z)"
   ]
  },
  {
   "cell_type": "code",
   "execution_count": 14,
   "id": "e9d50152-978a-43fc-ad48-7383e2ed89cd",
   "metadata": {},
   "outputs": [
    {
     "name": "stdout",
     "output_type": "stream",
     "text": [
      "test1   test2   test3\n"
     ]
    }
   ],
   "source": [
    "x, y, z=\"test1\", \"test2\", \"test3\"\n",
    "print(x,\" \",y,\" \",z)"
   ]
  },
  {
   "cell_type": "code",
   "execution_count": 15,
   "id": "c74d9c5c-5325-4e45-b642-e53969af99ba",
   "metadata": {},
   "outputs": [
    {
     "name": "stdout",
     "output_type": "stream",
     "text": [
      "temp   temp   temp\n"
     ]
    }
   ],
   "source": [
    "p=q=r=\"temp\"\n",
    "print(p,\" \",r,\" \",q)"
   ]
  },
  {
   "cell_type": "code",
   "execution_count": 26,
   "id": "695c015f-f975-4118-8c3d-370910b9a5a4",
   "metadata": {},
   "outputs": [
    {
     "name": "stdin",
     "output_type": "stream",
     "text": [
      "Enter first no.:  3\n",
      "Enter second no.:  3\n"
     ]
    },
    {
     "name": "stdout",
     "output_type": "stream",
     "text": [
      "Addition:  6\n"
     ]
    }
   ],
   "source": [
    "\n",
    "num1 = input(\"Enter first no.: \")\n",
    "num2 = input(\"Enter second no.: \")\n",
    "\n",
    "print(\"Addition: \", (int(num1)+int(num2)))"
   ]
  },
  {
   "cell_type": "code",
   "execution_count": 27,
   "id": "2c6da16c-ba88-42c9-944b-c0169373153e",
   "metadata": {},
   "outputs": [
    {
     "name": "stdin",
     "output_type": "stream",
     "text": [
      "Enter first no.:  4\n",
      "Enter second no.:  5\n"
     ]
    },
    {
     "name": "stdout",
     "output_type": "stream",
     "text": [
      "Addition:  9\n"
     ]
    }
   ],
   "source": [
    "\n",
    "num1 = input(\"Enter first no.: \")\n",
    "num2 = input(\"Enter second no.: \")\n",
    "\n",
    "n1 = int(num1)\n",
    "n2 = int(num2)\n",
    "print(\"Addition: \", (n1+n2))"
   ]
  },
  {
   "cell_type": "code",
   "execution_count": 28,
   "id": "3312ef93-c2eb-4fc2-9f99-0a9209833ec0",
   "metadata": {},
   "outputs": [
    {
     "name": "stdout",
     "output_type": "stream",
     "text": [
      "Addition:  13\n",
      "Substraction:  7\n",
      "Multiplication:  30\n"
     ]
    }
   ],
   "source": [
    "num1 = 10\n",
    "num2 = 3\n",
    "\n",
    "addition = num1+num2\n",
    "print(\"Addition: \", addition)\n",
    "\n",
    "substraction = num1-num2\n",
    "print(\"Substraction: \", substraction)\n",
    "\n",
    "multiplication = num1*num2\n",
    "print(\"Multiplication: \", multiplication)\n"
   ]
  },
  {
   "cell_type": "code",
   "execution_count": 31,
   "id": "ef9c7b12-78fe-463f-b038-dae9ab8377ca",
   "metadata": {},
   "outputs": [
    {
     "name": "stdout",
     "output_type": "stream",
     "text": [
      "Division:  2.0\n"
     ]
    }
   ],
   "source": [
    "#division\n",
    "num1 = 10\n",
    "num2 = 5\n",
    "division = num1/num2\n",
    "print(\"Division: \",division)"
   ]
  },
  {
   "cell_type": "code",
   "execution_count": 32,
   "id": "4465c316-709e-45ef-a664-03c77d15c0ea",
   "metadata": {},
   "outputs": [
    {
     "name": "stdout",
     "output_type": "stream",
     "text": [
      "Modulus:  0\n",
      "Exponentiation:  100000\n",
      "Floor Division:  2\n"
     ]
    }
   ],
   "source": [
    "#modulus(remainder)\n",
    "\n",
    "modulus = num1%num2\n",
    "print(\"Modulus: \",modulus)\n",
    "\n",
    "\n",
    "#Exponentiation(power)\n",
    "exponentiation = num1**num2\n",
    "print(\"Exponentiation: \", exponentiation)\n",
    "\n",
    "#Floor division\n",
    "floor_division = num1//num2\n",
    "print(\"Floor Division: \", floor_division)"
   ]
  },
  {
   "cell_type": "code",
   "execution_count": 34,
   "id": "dda6a2fb-5e6e-4376-a93b-258a3c41094f",
   "metadata": {},
   "outputs": [
    {
     "name": "stdout",
     "output_type": "stream",
     "text": [
      "Is num1 equal to num2?  False\n",
      "Is num1 not equal to num2?  True\n",
      "Is num1 greater than num2?  False\n",
      "Is num1 less than num2?  True\n",
      "Is num1 greater than or equal to num2?  False\n",
      "Is num1 less than or equal to num2?  True\n"
     ]
    }
   ],
   "source": [
    "num1 = 8\n",
    "num2 = 9\n",
    "\n",
    "\n",
    "print(\"Is num1 equal to num2? \", num1==num2)\n",
    "print(\"Is num1 not equal to num2? \", num1!=num2)\n",
    "print(\"Is num1 greater than num2? \", num1>num2)\n",
    "print(\"Is num1 less than num2? \", num1<num2)\n",
    "print(\"Is num1 greater than or equal to num2? \", num1>=num2)\n",
    "print(\"Is num1 less than or equal to num2? \", num1<=num2)\n",
    "\n"
   ]
  },
  {
   "cell_type": "code",
   "execution_count": 47,
   "id": "866d8f79-b8eb-4863-abd3-74da1a78cfa2",
   "metadata": {},
   "outputs": [
    {
     "name": "stdout",
     "output_type": "stream",
     "text": [
      "3\n",
      "After increment:  8\n",
      "After decrement:  5\n",
      "After multiplication:  10\n",
      "After Exponent:  100\n",
      "After floor division:  50\n"
     ]
    }
   ],
   "source": [
    "num = 3\n",
    "print(num)\n",
    "\n",
    "num += 5\n",
    "print('After increment: ',num)\n",
    "\n",
    "num-=3\n",
    "print('After decrement: ',num)\n",
    "\n",
    "num *= 2\n",
    "print('After multiplication: ',num)\n",
    "\n",
    "num **= 2\n",
    "print('After Exponent: ',num)\n",
    "\n",
    "num //= 2\n",
    "print('After floor division: ',num)"
   ]
  },
  {
   "cell_type": "code",
   "execution_count": 48,
   "id": "e946d36f-00f5-46a0-883b-1ef52ed4a073",
   "metadata": {},
   "outputs": [
    {
     "name": "stdin",
     "output_type": "stream",
     "text": [
      "Enter your email admin@gmail.com\n",
      "Enter your password admin@123\n"
     ]
    },
    {
     "name": "stdout",
     "output_type": "stream",
     "text": [
      "True\n"
     ]
    }
   ],
   "source": [
    "email = input('Enter your email')\n",
    "password = input('Enter your password')\n",
    "print(email == 'admin@gmail.com' and password == 'admin@123')"
   ]
  },
  {
   "cell_type": "code",
   "execution_count": 49,
   "id": "7d9dbe70-f9a1-4c73-8649-bf69833a1561",
   "metadata": {},
   "outputs": [
    {
     "name": "stdout",
     "output_type": "stream",
     "text": [
      "Positive number\n"
     ]
    }
   ],
   "source": [
    "num = 10\n",
    "if num>0:\n",
    "    print(\"Positive number\")"
   ]
  },
  {
   "cell_type": "code",
   "execution_count": 51,
   "id": "d24dc68e-3478-44d4-9a08-03a4f73b840a",
   "metadata": {},
   "outputs": [
    {
     "name": "stdout",
     "output_type": "stream",
     "text": [
      "Non-positive number\n"
     ]
    }
   ],
   "source": [
    "num = -5\n",
    "if num>0:\n",
    "    print(\"Positive number\")\n",
    "else:\n",
    "    print(\"Non-positive number\")"
   ]
  },
  {
   "cell_type": "code",
   "execution_count": 52,
   "id": "d1a8de11-64ce-4c55-a0ea-1c81aaf5a4e8",
   "metadata": {},
   "outputs": [
    {
     "name": "stdout",
     "output_type": "stream",
     "text": [
      "Zero\n"
     ]
    }
   ],
   "source": [
    "num = 0\n",
    "if num>0:\n",
    "    print(\"Positive number\")\n",
    "elif num==0:\n",
    "    print(\"Zero\")\n",
    "else:\n",
    "    print(\"Negative number\")"
   ]
  },
  {
   "cell_type": "code",
   "execution_count": 55,
   "id": "01dcc8f6-3196-4b44-92bc-98223f95ee8b",
   "metadata": {},
   "outputs": [
    {
     "name": "stdout",
     "output_type": "stream",
     "text": [
      "Positive\n"
     ]
    }
   ],
   "source": [
    "#ternary operator\n",
    "\n",
    "num = 5\n",
    "print(\"Positive\") if num>0 else print(\"Non-positive\")"
   ]
  },
  {
   "cell_type": "code",
   "execution_count": 56,
   "id": "12bde572-5f2b-4ed9-b032-86292ea186a7",
   "metadata": {},
   "outputs": [
    {
     "name": "stdout",
     "output_type": "stream",
     "text": [
      "Negative\n"
     ]
    }
   ],
   "source": [
    "num = -3\n",
    "result = \"Positive\" if num>0 else \"Negative\"\n",
    "print(result)"
   ]
  },
  {
   "cell_type": "code",
   "execution_count": 61,
   "id": "ac064961-2e83-4ead-b897-112567bdcc09",
   "metadata": {},
   "outputs": [
    {
     "name": "stdout",
     "output_type": "stream",
     "text": [
      "Positive and odd number\n"
     ]
    }
   ],
   "source": [
    "num = 15\n",
    "if num>0:\n",
    "    if num%2==0:\n",
    "        print(\"Positive and even number\")\n",
    "    else:\n",
    "        print(\"Positive and odd number\")\n",
    "else:\n",
    "    print(\"Non-positive number\")\n",
    "    \n",
    "        "
   ]
  },
  {
   "cell_type": "code",
   "execution_count": 65,
   "id": "ca9e792c-27cc-4939-bf61-69a3c5ba4a43",
   "metadata": {},
   "outputs": [],
   "source": [
    "num = 5\n",
    "if num>0:\n",
    "    #a placeholder for future code, avoids syntax errors\n",
    "    pass\n",
    "else:\n",
    "    print(\"This won't execute\")"
   ]
  },
  {
   "cell_type": "code",
   "execution_count": 69,
   "id": "21ea20eb-f364-4a91-84d0-d100c5a07c61",
   "metadata": {},
   "outputs": [
    {
     "name": "stdin",
     "output_type": "stream",
     "text": [
      "Enter your grade 99\n"
     ]
    },
    {
     "name": "stdout",
     "output_type": "stream",
     "text": [
      "Grade A\n"
     ]
    }
   ],
   "source": [
    "grade = int(input(\"Enter your grade\"))\n",
    "if(grade>=90 and grade<=100):\n",
    "    print(\"Grade A\")\n",
    "elif(grade>=70 and grade<=89):\n",
    "    print(\"Grade B\")    \n",
    "elif(grade>=69 and grade<=50):\n",
    "    print(\"Grade C\") \n",
    "elif(grade<50):\n",
    "    print(\"Fail\")"
   ]
  },
  {
   "cell_type": "code",
   "execution_count": 72,
   "id": "1c632135-abc5-4727-8007-31e2463e497e",
   "metadata": {},
   "outputs": [
    {
     "name": "stdin",
     "output_type": "stream",
     "text": [
      "Enter a no.:  90\n"
     ]
    },
    {
     "name": "stdout",
     "output_type": "stream",
     "text": [
      "Number is postive and even\n"
     ]
    }
   ],
   "source": [
    "num = int(input(\"Enter a no.: \"))\n",
    "if(num>0):\n",
    "    if(num%2==0):\n",
    "        print(\"Number is postive and even\")\n",
    "    else:\n",
    "        print(\"Number is postive and odd\")\n",
    "\n",
    "elif num==0:\n",
    "    print(\"Number is zero\")\n",
    "\n",
    "else:\n",
    "    if(num<-10):\n",
    "        print(\"Number is less than -10\")\n",
    "        "
   ]
  },
  {
   "cell_type": "code",
   "execution_count": 75,
   "id": "6dbb1656-a2af-4a04-99e6-8eaa03bc047f",
   "metadata": {},
   "outputs": [
    {
     "name": "stdin",
     "output_type": "stream",
     "text": [
      "Enter purchase amount 500\n"
     ]
    },
    {
     "name": "stdout",
     "output_type": "stream",
     "text": [
      "450.0\n"
     ]
    }
   ],
   "source": [
    "amount = int(input(\"Enter purchase amount\"))\n",
    "\n",
    "if(amount>500):\n",
    "    discount_amount = amount*20/100\n",
    "    final_amount = amount - discount_amount\n",
    "    print(final_amount)\n",
    "\n",
    "\n",
    "elif(amount<=500 and amount>=200):\n",
    "    discount_amount = amount*10/100\n",
    "    final_amount = amount - discount_amount\n",
    "    print(final_amount)\n",
    "\n",
    "else:\n",
    "    print(\"No discount\")\n",
    "    \n",
    "    \n"
   ]
  },
  {
   "cell_type": "code",
   "execution_count": 78,
   "id": "2d609ec5-e992-4dc6-8bcd-51d5b0557db0",
   "metadata": {},
   "outputs": [
    {
     "name": "stdin",
     "output_type": "stream",
     "text": [
      "total mrp 400\n"
     ]
    },
    {
     "name": "stdout",
     "output_type": "stream",
     "text": [
      "Total discoun given  10 %\n",
      "You saved  40.0\n",
      "final amount  360.0\n"
     ]
    }
   ],
   "source": [
    "mrp = int(input('total mrp'))\n",
    "discount = 0\n",
    "if mrp>=500:\n",
    "    discount = 20\n",
    "elif mrp>=200 and mrp<500:\n",
    "    discount = 10\n",
    "\n",
    "discount_price = mrp*discount/100\n",
    "final_amount = mrp-discount_price\n",
    "print('Total discoun given ', discount,'%')\n",
    "print('You saved ',discount_price)\n",
    "print('final amount ',final_amount)"
   ]
  },
  {
   "cell_type": "markdown",
   "id": "0c449ce3-bef3-4d11-9edc-b32c8932b9c7",
   "metadata": {},
   "source": [
    "#LOOP"
   ]
  },
  {
   "cell_type": "code",
   "execution_count": 79,
   "id": "8b33ec24-5c9b-496a-bfe9-26f4286a6225",
   "metadata": {},
   "outputs": [
    {
     "name": "stdout",
     "output_type": "stream",
     "text": [
      "count:  1\n",
      "count:  2\n",
      "count:  3\n",
      "count:  4\n",
      "count:  5\n"
     ]
    }
   ],
   "source": [
    "#while loop\n",
    "\n",
    "count = 1\n",
    "while count<=5:\n",
    "    print(\"count: \", count)\n",
    "    count += 1"
   ]
  },
  {
   "cell_type": "code",
   "execution_count": 80,
   "id": "4defab6e-e5dd-4553-8c88-19aa3e3bf9c7",
   "metadata": {},
   "outputs": [
    {
     "name": "stdout",
     "output_type": "stream",
     "text": [
      "Number:  1\n",
      "Number:  2\n",
      "Number:  3\n",
      "Number:  4\n",
      "Number:  5\n"
     ]
    }
   ],
   "source": [
    "#for loop\n",
    "\n",
    "for num in range(1,6):\n",
    "    print(\"Number: \",num)"
   ]
  },
  {
   "cell_type": "code",
   "execution_count": 82,
   "id": "c6b759f2-fd0a-4d65-8505-493c2edbd55d",
   "metadata": {},
   "outputs": [
    {
     "name": "stdout",
     "output_type": "stream",
     "text": [
      "Count is  0\n",
      "Count is  1\n",
      "Count is  2\n",
      "Breaking at count=  3\n"
     ]
    }
   ],
   "source": [
    "#while with break\n",
    "\n",
    "count = 0\n",
    "while count<5:\n",
    "    if count==3:\n",
    "        print(\"Breaking at count= \",count)\n",
    "        break\n",
    "    print(\"Count is \", count)\n",
    "    count += 1"
   ]
  },
  {
   "cell_type": "code",
   "execution_count": 85,
   "id": "a43a284b-9e05-44c1-a8dd-9c366b1587f4",
   "metadata": {},
   "outputs": [
    {
     "name": "stdout",
     "output_type": "stream",
     "text": [
      "Number:  1\n",
      "Number:  2\n",
      "Number:  3\n",
      "Number:  4\n",
      "Breaking at number:  5\n"
     ]
    }
   ],
   "source": [
    "#for with break\n",
    "\n",
    "for num in range(1, 11):\n",
    "    if num==5:\n",
    "        print(\"Breaking at number: \", num)\n",
    "        break\n",
    "\n",
    "    print(\"Number: \", num)\n",
    "    "
   ]
  },
  {
   "cell_type": "code",
   "execution_count": 86,
   "id": "d9a087ea-5898-42fd-b3fc-5c554f092a02",
   "metadata": {},
   "outputs": [
    {
     "name": "stdin",
     "output_type": "stream",
     "text": [
      "Enter first no.:  4\n",
      "Enter second no.:  10\n"
     ]
    },
    {
     "name": "stdout",
     "output_type": "stream",
     "text": [
      "28\n"
     ]
    }
   ],
   "source": [
    "num = int(input(\"Enter first no.: \"))\n",
    "num2 = int(input(\"Enter second no.: \"))\n",
    "sum = 0\n",
    "for i in range(num, num2+1):\n",
    "    if(i%2==0):\n",
    "        sum = sum+i;\n",
    "print(sum)\n",
    "        "
   ]
  },
  {
   "cell_type": "code",
   "execution_count": 101,
   "id": "5e6826dd-88b0-48ec-a287-c30fe8cbf884",
   "metadata": {},
   "outputs": [
    {
     "name": "stdout",
     "output_type": "stream",
     "text": [
      "1 \n",
      "1 2 \n",
      "1 2 3 \n",
      "1 2 3 4 \n",
      "1 2 3 4 5 \n"
     ]
    }
   ],
   "source": [
    "def print_pattern(n):\n",
    "    for i in range(1, n + 1):\n",
    "        for j in range(1, i + 1):\n",
    "            print(j, end=\" \")\n",
    "        print()\n",
    "\n",
    "\n",
    "print_pattern(5)\n"
   ]
  },
  {
   "cell_type": "code",
   "execution_count": 102,
   "id": "13983e45-3163-40ca-a1e7-b7286ad2306b",
   "metadata": {},
   "outputs": [
    {
     "name": "stdout",
     "output_type": "stream",
     "text": [
      "Hello World\n"
     ]
    }
   ],
   "source": [
    "def hello():\n",
    "    print('Hello World')\n",
    "\n",
    "hello()\n"
   ]
  },
  {
   "cell_type": "code",
   "execution_count": 109,
   "id": "262ed1f7-d126-45f7-94d5-07e6d9c1d377",
   "metadata": {},
   "outputs": [
    {
     "name": "stdout",
     "output_type": "stream",
     "text": [
      "Good Morning: Pragya Pakhi\n"
     ]
    }
   ],
   "source": [
    "def greet(name):\n",
    "    print('Good Morning:',name)\n",
    "\n",
    "greet('Pragya Pakhi')\n"
   ]
  },
  {
   "cell_type": "code",
   "execution_count": 111,
   "id": "70bac1c1-46f5-4ed6-bb6d-21671e322614",
   "metadata": {},
   "outputs": [
    {
     "name": "stdout",
     "output_type": "stream",
     "text": [
      "The sum of 5 and 3 is 8\n"
     ]
    }
   ],
   "source": [
    "def add_numbers(a, b):\n",
    "    result = a+b\n",
    "    print(f\"The sum of {a} and {b} is {result}\")\n",
    "\n",
    "add_numbers(5,3)"
   ]
  },
  {
   "cell_type": "code",
   "execution_count": 112,
   "id": "1fcd1af3-1a7e-4cd6-8c69-b82d2a78c224",
   "metadata": {},
   "outputs": [
    {
     "name": "stdout",
     "output_type": "stream",
     "text": [
      "The product is: 20\n"
     ]
    }
   ],
   "source": [
    "def mut_no(a, b):\n",
    "    return a*b\n",
    "\n",
    "result = mut_no(4, 5)\n",
    "print(\"The product is:\", result)\n"
   ]
  },
  {
   "cell_type": "code",
   "execution_count": 113,
   "id": "25127cf8-7f4e-4eb2-ad75-af762b3ca6cc",
   "metadata": {},
   "outputs": [
    {
     "name": "stdout",
     "output_type": "stream",
     "text": [
      "Hello, Alice!\n",
      "Hello, Guest!\n"
     ]
    }
   ],
   "source": [
    "def greet(name=\"Guest\"):\n",
    "    print(f\"Hello, {name}!\")\n",
    "\n",
    "greet(\"Alice\")\n",
    "greet()"
   ]
  },
  {
   "cell_type": "code",
   "execution_count": 119,
   "id": "3c94a30f-d194-461a-a9d4-6751c432bcdb",
   "metadata": {},
   "outputs": [
    {
     "name": "stdout",
     "output_type": "stream",
     "text": [
      "Pragya is 21 years old and lives in New York.\n",
      "Pakhi is 12 years old and lives in LA.\n"
     ]
    }
   ],
   "source": [
    "def describe_person(name, age, city):\n",
    "    print(f\"{name} is {age} years old and lives in {city}.\")\n",
    "\n",
    "describe_person(age=21, city=\"New York\", name=\"Pragya\")   \n",
    "describe_person(\"Pakhi\", 12, \"LA\")   "
   ]
  },
  {
   "cell_type": "code",
   "execution_count": 120,
   "id": "31dab48a-dc87-4d0d-b7b6-f4333c6e209e",
   "metadata": {},
   "outputs": [
    {
     "name": "stdout",
     "output_type": "stream",
     "text": [
      "Factorial of 5 is:  120\n"
     ]
    }
   ],
   "source": [
    "def factorial(n):\n",
    "    if n==1:\n",
    "        return 1\n",
    "    else:\n",
    "        return n*factorial(n-1)\n",
    "\n",
    "result = factorial(5)\n",
    "print(\"Factorial of 5 is: \", result)"
   ]
  },
  {
   "cell_type": "code",
   "execution_count": 121,
   "id": "1ca33efa-751f-43f5-8779-c1e1d9ccc25d",
   "metadata": {},
   "outputs": [],
   "source": [
    "def login(username, password):\n",
    "    if username=='admin' and password=='admin123':\n",
    "        print(\"login successfully\")"
   ]
  },
  {
   "cell_type": "code",
   "execution_count": 1,
   "id": "e28173a2-3b97-4e67-9f49-757efaef961b",
   "metadata": {},
   "outputs": [
    {
     "name": "stdin",
     "output_type": "stream",
     "text": [
      "Enter your email:  admin@gmail.com\n",
      "Enter your password:  admin\n"
     ]
    },
    {
     "name": "stdout",
     "output_type": "stream",
     "text": [
      "Email is valid.\n",
      "Password is valid.\n"
     ]
    }
   ],
   "source": [
    "email = input(\"Enter your email: \")\n",
    "password = input(\"Enter your password: \")\n",
    " \n",
    "def validate_email(email):\n",
    "    if email == \"admin@gmail.com\":\n",
    "        return True\n",
    "def validate_password(password):\n",
    "    if password == \"admin\":\n",
    "        return True\n",
    "if validate_email(email):\n",
    "    print(\"Email is valid.\")\n",
    "else:\n",
    "    print(\"Email is invalid.\")\n",
    " \n",
    "if validate_password(password):\n",
    "    print(\"Password is valid.\")\n",
    "else:\n",
    "    print(\"Password is invalid.\")\n",
    " "
   ]
  },
  {
   "cell_type": "code",
   "execution_count": 13,
   "id": "52ba8820-628f-42ba-ab53-e07b6084925b",
   "metadata": {},
   "outputs": [
    {
     "name": "stdout",
     "output_type": "stream",
     "text": [
      "[10, 20, 30, 40, 50]\n",
      "40\n",
      "[10, 20, 30, 40, 50, 60]\n",
      "[10, 20, 25, 30, 40, 50, 60]\n",
      "60 removed\n",
      "6\n",
      "Minimum vlaue 10\n",
      "Maximum vlaue 50\n",
      "Sum vlaue 175\n",
      "[10, 20, 30, 40, 50]\n",
      "True\n"
     ]
    },
    {
     "data": {
      "text/plain": [
       "1"
      ]
     },
     "execution_count": 13,
     "metadata": {},
     "output_type": "execute_result"
    }
   ],
   "source": [
    "#list\n",
    "\n",
    "mylist = [10, 20, 30, 40, 50]\n",
    "print(mylist)\n",
    "\n",
    "print(mylist[3])\n",
    "mylist.append(60)\n",
    "\n",
    "print(mylist)\n",
    "\n",
    "mylist.insert(2,25)\n",
    "print(mylist)\n",
    "\n",
    "data = mylist.pop()\n",
    "print(data, \"removed\")\n",
    "\n",
    "print(len(mylist))\n",
    "print('Minimum vlaue', min(mylist))\n",
    "print('Maximum vlaue', max(mylist))\n",
    "print('Sum vlaue', sum(mylist))\n",
    "\n",
    "mylist.remove(25)\n",
    "print(mylist)\n",
    "\n",
    "\n",
    "#check membership\n",
    "print(20 in mylist)\n",
    "\n",
    "mylist.index(20)"
   ]
  },
  {
   "cell_type": "code",
   "execution_count": 28,
   "id": "1c5afdec-77f6-4fc8-b80b-68f4baf20a8c",
   "metadata": {},
   "outputs": [
    {
     "name": "stdout",
     "output_type": "stream",
     "text": [
      "['Apple', 'Banana', 'Cherry', 'Guava']\n",
      "['Banana']\n"
     ]
    }
   ],
   "source": [
    "fruits = [\"Apple\", \"Banana\", \"Cherry\", \"Guava\"]\n",
    "print(fruits)\n",
    "\n",
    "print(fruits[1:2])\n",
    "\n"
   ]
  },
  {
   "cell_type": "code",
   "execution_count": 33,
   "id": "0b380739-64c5-4eb6-a9a1-12f5511e3e94",
   "metadata": {},
   "outputs": [
    {
     "name": "stdout",
     "output_type": "stream",
     "text": [
      "['Apple', 'Guava', 1, 2, 3, 4, 1, 2, 3, 4, 1, 2, 3, 4]\n"
     ]
    }
   ],
   "source": [
    "fruits.extend([1,2,3,4])\n",
    "print(fruits)"
   ]
  },
  {
   "cell_type": "code",
   "execution_count": 38,
   "id": "f2789e55-97d3-45e6-807a-5811dd01cf83",
   "metadata": {},
   "outputs": [
    {
     "name": "stdout",
     "output_type": "stream",
     "text": [
      "['skjs', 'nj']\n"
     ]
    }
   ],
   "source": [
    "#delete using index no\n",
    "name = [\"ram\", \"skjs\", \"nj\"]\n",
    "del name[0]\n",
    "print(name)"
   ]
  },
  {
   "cell_type": "code",
   "execution_count": 39,
   "id": "c9e494d6-229a-48ab-8863-3608bda7bcdd",
   "metadata": {},
   "outputs": [
    {
     "name": "stdout",
     "output_type": "stream",
     "text": [
      "[]\n"
     ]
    }
   ],
   "source": [
    "name.clear()\n",
    "print(name)"
   ]
  },
  {
   "cell_type": "markdown",
   "id": "19d9336a-b383-4e2d-a8ae-6939af496398",
   "metadata": {},
   "source": [
    "#list iteration"
   ]
  },
  {
   "cell_type": "code",
   "execution_count": 40,
   "id": "45abae84-1fa6-4c5e-8e3b-305e1aaef33d",
   "metadata": {},
   "outputs": [
    {
     "name": "stdout",
     "output_type": "stream",
     "text": [
      "1\n",
      "2\n",
      "3\n",
      "4\n",
      "5\n",
      "6\n",
      "7\n",
      "8\n"
     ]
    }
   ],
   "source": [
    "mydata = [1,2,3,4,5,6,7,8]\n",
    "for num in mydata:\n",
    "    print(num)\n",
    "    "
   ]
  },
  {
   "cell_type": "code",
   "execution_count": 41,
   "id": "7d742f62-a04c-4ac0-bb6a-d0f8ebb450cf",
   "metadata": {},
   "outputs": [
    {
     "name": "stdout",
     "output_type": "stream",
     "text": [
      "1\n",
      "2\n",
      "3\n",
      "4\n",
      "5\n",
      "6\n",
      "7\n",
      "8\n"
     ]
    }
   ],
   "source": [
    "i=0\n",
    "while i<len(mydata):\n",
    "    print(mydata[i])\n",
    "    i += 1"
   ]
  },
  {
   "cell_type": "code",
   "execution_count": 47,
   "id": "f5a36536-b194-4c65-b010-b2c142a547d7",
   "metadata": {},
   "outputs": [
    {
     "name": "stdout",
     "output_type": "stream",
     "text": [
      "[6, 5, 4, 3]\n"
     ]
    }
   ],
   "source": [
    "numb = [3,4,5,6]\n",
    "numb.sort(reverse=True)\n",
    "print(numb)"
   ]
  },
  {
   "cell_type": "code",
   "execution_count": 48,
   "id": "5fd84ad3-5e63-4443-9178-c02485a75385",
   "metadata": {},
   "outputs": [
    {
     "name": "stdout",
     "output_type": "stream",
     "text": [
      "[3, 4, 5, 6]\n"
     ]
    }
   ],
   "source": [
    "numb = [3,4,5,6]\n",
    "numb.sort\n",
    "print(numb)"
   ]
  },
  {
   "cell_type": "code",
   "execution_count": 50,
   "id": "d2480cd6-1937-46ac-8c1c-ef8c7f73d0e2",
   "metadata": {},
   "outputs": [
    {
     "name": "stdout",
     "output_type": "stream",
     "text": [
      "[3, 4, 5, 6]\n"
     ]
    }
   ],
   "source": [
    "copy = numb.copy()\n",
    "print(copy)"
   ]
  },
  {
   "cell_type": "code",
   "execution_count": 51,
   "id": "d197aeba-8f52-4e1a-b8e1-cb40da0f2845",
   "metadata": {},
   "outputs": [
    {
     "name": "stdout",
     "output_type": "stream",
     "text": [
      "[1, 4, 9, 16, 25]\n"
     ]
    }
   ],
   "source": [
    "squares = [x**2 for x in range(1,6)]\n",
    "print(squares)"
   ]
  },
  {
   "cell_type": "code",
   "execution_count": 52,
   "id": "4c9773d7-c8e2-4bfa-9331-cdc946b1bc34",
   "metadata": {},
   "outputs": [
    {
     "name": "stdout",
     "output_type": "stream",
     "text": [
      "('alex', 'bob', 'catty', 'david')\n",
      "('test', True, 78.5, 9)\n"
     ]
    }
   ],
   "source": [
    "names = ('alex', 'bob', 'catty', 'david')\n",
    "print(names)\n",
    "\n",
    "mixed = ('test', True, 78.5, 9)\n",
    "print(mixed)"
   ]
  },
  {
   "cell_type": "markdown",
   "id": "40aa8788-4415-45e5-af33-431ef6aa9045",
   "metadata": {},
   "source": [
    "#type casting"
   ]
  },
  {
   "cell_type": "code",
   "execution_count": 53,
   "id": "08d056e7-9a2a-48f9-a7e3-cf44de17c9a9",
   "metadata": {},
   "outputs": [
    {
     "name": "stdout",
     "output_type": "stream",
     "text": [
      "(10, 20, 30, 40)\n"
     ]
    }
   ],
   "source": [
    "tp = (10, 20, 30)\n",
    "ls = list(tp)\n",
    "\n",
    "ls.append(40)\n",
    "\n",
    "tp = tuple(ls)\n",
    "print(tp)"
   ]
  },
  {
   "cell_type": "code",
   "execution_count": 54,
   "id": "3344f527-1203-48b4-9e4d-b18d7e043b66",
   "metadata": {},
   "outputs": [
    {
     "name": "stdout",
     "output_type": "stream",
     "text": [
      "('a', 'b', 'c', 1, 2, 3)\n"
     ]
    }
   ],
   "source": [
    "tuple1 = (\"a\", \"b\" , \"c\")\n",
    "tuple2 = (1, 2, 3)\n",
    "\n",
    "tuple3 = tuple1 + tuple2\n",
    "print(tuple3)"
   ]
  },
  {
   "cell_type": "code",
   "execution_count": 55,
   "id": "3eafd443-7dea-409b-8a0d-188773f6f28e",
   "metadata": {},
   "outputs": [
    {
     "name": "stdout",
     "output_type": "stream",
     "text": [
      "('temp', 'temp', 'temp', 'temp')\n"
     ]
    }
   ],
   "source": [
    "new_t = ('temp',)*4\n",
    "print(new_t)"
   ]
  },
  {
   "cell_type": "code",
   "execution_count": 59,
   "id": "9678a9c6-fbfd-4d4d-8aee-a8aa4dff01d0",
   "metadata": {},
   "outputs": [
    {
     "name": "stdout",
     "output_type": "stream",
     "text": [
      "3\n",
      "8\n"
     ]
    }
   ],
   "source": [
    "list = [1,2,3,4,4,2,2,5,6]\n",
    "print(list.count(2))\n",
    "\n",
    "\n",
    "print(list.index(6))"
   ]
  },
  {
   "cell_type": "code",
   "execution_count": 60,
   "id": "3f289dc5-64e8-428b-8adf-6837c94eccec",
   "metadata": {},
   "outputs": [],
   "source": [
    "thisdict = {\n",
    "  \"brand\": \"Ford\",\n",
    "  \"model\": \"Mustang\",\n",
    "  \"year\": 1964\n",
    "}\n",
    "x = thisdict[\"model\"]\n"
   ]
  },
  {
   "cell_type": "code",
   "execution_count": 61,
   "id": "6819e7cd-b5bb-4d5d-86f4-3e14a53d9940",
   "metadata": {},
   "outputs": [
    {
     "name": "stdout",
     "output_type": "stream",
     "text": [
      "1000\n",
      "Paras\n",
      "SAP\n",
      "None\n",
      "Adity\n",
      "{'eid': 1000, 'name': 'Paras', 'dept': 'SAP', 'salary': 20000}\n",
      "{'eid': 1000, 'name': 'Paras', 'dept': 'SAP', 'salary': 20000, 'manager': 'Shinu'}\n",
      "{'eid': 1000, 'name': 'Paras', 'dept': 'SAP', 'salary': 20000, 'manager': 'Ravi'}\n",
      "('manager', 'Ravi') removed\n",
      "{'eid': 1000, 'name': 'Paras', 'dept': 'SAP'}\n"
     ]
    }
   ],
   "source": [
    "# Dictionary - Key Value Pair\n",
    " \n",
    "employee = {\n",
    "    \"eid\" : 1000,\n",
    "    \"name\" : \"Paras\",\n",
    "    \"dept\" : \"SAP\",\n",
    "    \"salary\" : 20000\n",
    "}\n",
    " \n",
    "print(employee['eid'])\n",
    "print(employee['name'])\n",
    "print(employee.get('dept'))\n",
    "print(employee.get('manager'))\n",
    "print(employee.get('manager', 'Adity'))\n",
    "# get is better then simple access because if that key not present then simple one simply return the error but with .get return NONE\n",
    "print(employee)\n",
    " \n",
    "# Add and update the key value pair\n",
    "employee['manager'] = \"Shinu\"\n",
    "print(employee)\n",
    " \n",
    "employee['manager'] = \"Ravi\"\n",
    "print(employee)\n",
    " \n",
    "# Remove the last Key Pair \n",
    "data = employee.popitem()\n",
    "print(data, 'removed')\n",
    " \n",
    "data = employee.pop('salary')\n",
    "print(employee)"
   ]
  },
  {
   "cell_type": "code",
   "execution_count": 65,
   "id": "67752325-feb3-4fed-bb76-b0074d468797",
   "metadata": {},
   "outputs": [
    {
     "name": "stdout",
     "output_type": "stream",
     "text": [
      "id :  1\n",
      "name :  alex\n",
      "email :  alex@gmail.com\n",
      "address :  us\n"
     ]
    }
   ],
   "source": [
    "# Define the student dictionary\n",
    "student = {\n",
    "    \"id\": 1,\n",
    "    \"name\": \"alex\",\n",
    "    \"email\": \"alex@gmail.com\",\n",
    "    \"address\": \"us\"\n",
    "}\n",
    "\n",
    "# Iterate over the dictionary and print keys and values\n",
    "for key in student:\n",
    "    print(key, \": \", student[key])\n"
   ]
  },
  {
   "cell_type": "code",
   "execution_count": 67,
   "id": "46286644-0aaa-4617-84af-954642a7ea7a",
   "metadata": {},
   "outputs": [
    {
     "name": "stdout",
     "output_type": "stream",
     "text": [
      "dict_items([('id', 1), ('name', 'alex'), ('email', 'alex@gmail.com'), ('address', 'us')])\n"
     ]
    }
   ],
   "source": [
    "print(student.items())"
   ]
  },
  {
   "cell_type": "code",
   "execution_count": 68,
   "id": "2a2cb0e7-5324-4f79-a0bc-413abf6b84a8",
   "metadata": {},
   "outputs": [
    {
     "name": "stdout",
     "output_type": "stream",
     "text": [
      "id :  1\n",
      "name :  alex\n",
      "email :  alex@gmail.com\n",
      "address :  us\n"
     ]
    }
   ],
   "source": [
    "for key,values in student.items():\n",
    "    print(key,\": \",values)"
   ]
  },
  {
   "cell_type": "code",
   "execution_count": 70,
   "id": "d33ba26a-e6ec-4e9b-8677-c585552169c4",
   "metadata": {},
   "outputs": [
    {
     "name": "stdout",
     "output_type": "stream",
     "text": [
      "address is present in student object\n"
     ]
    }
   ],
   "source": [
    "if \"address\" in student:\n",
    "    print(\"address is present in student object\")"
   ]
  },
  {
   "cell_type": "markdown",
   "id": "c70fef23-6a68-427c-b31e-c86b8262d54d",
   "metadata": {},
   "source": [
    "#set"
   ]
  },
  {
   "cell_type": "code",
   "execution_count": 72,
   "id": "b8d93c90-f66b-40e0-a8e4-0516e62076bc",
   "metadata": {},
   "outputs": [
    {
     "name": "stdout",
     "output_type": "stream",
     "text": [
      "{'bob', 'rahul', 'alex', 'krish'}\n"
     ]
    }
   ],
   "source": [
    "names = {\"alex\", \"bob\", \"krish\", \"rahul\"}\n",
    "print(names)"
   ]
  },
  {
   "cell_type": "code",
   "execution_count": 73,
   "id": "c1dc176a-4c76-4486-a5a5-a54928da2316",
   "metadata": {},
   "outputs": [
    {
     "name": "stdout",
     "output_type": "stream",
     "text": [
      "bob\n",
      "rahul\n",
      "alex\n",
      "krish\n"
     ]
    }
   ],
   "source": [
    "for name in names:\n",
    "    print(name)"
   ]
  },
  {
   "cell_type": "code",
   "execution_count": 75,
   "id": "1b52de4c-9a8a-48a0-b488-d2ffd4e5fc49",
   "metadata": {},
   "outputs": [
    {
     "name": "stdout",
     "output_type": "stream",
     "text": [
      "{'jack', 'alex', 'krish', 'rahul', 'bob'}\n"
     ]
    }
   ],
   "source": [
    "names.add(\"jack\")\n",
    "print(names)"
   ]
  },
  {
   "cell_type": "code",
   "execution_count": 83,
   "id": "45acd6b8-a858-4996-a130-13877dd46eee",
   "metadata": {},
   "outputs": [
    {
     "name": "stdout",
     "output_type": "stream",
     "text": [
      "{'jack', 'alex', 'krish', 'rahul', 'gracy', 'bob', 'purva'}\n"
     ]
    }
   ],
   "source": [
    "names.update(['gracy', 'purva'])\n",
    "print(names)"
   ]
  },
  {
   "cell_type": "code",
   "execution_count": 78,
   "id": "2883e217-ce0f-4c44-ba85-64ddf79d548f",
   "metadata": {},
   "outputs": [
    {
     "name": "stdout",
     "output_type": "stream",
     "text": [
      "{403, 404, 500, 200, 302}\n"
     ]
    }
   ],
   "source": [
    "myset = {404, 302, 200, 500, 403, 302}\n",
    "print(myset) #no order is maintained and no duplicates allowed"
   ]
  },
  {
   "cell_type": "code",
   "execution_count": 79,
   "id": "0499a81e-055b-462b-bfa8-6db0610f93dc",
   "metadata": {},
   "outputs": [
    {
     "name": "stdout",
     "output_type": "stream",
     "text": [
      "403\n",
      "404\n",
      "500\n",
      "200\n",
      "302\n"
     ]
    }
   ],
   "source": [
    "for num in myset:\n",
    "    print(num)\n",
    "    "
   ]
  },
  {
   "cell_type": "code",
   "execution_count": 87,
   "id": "9e0556f2-075e-44ae-9e77-92efb17808f3",
   "metadata": {},
   "outputs": [
    {
     "name": "stdout",
     "output_type": "stream",
     "text": [
      "{200, 402, 403, 405, 302, 303, 500, 501}\n",
      "{200, 402, 403, 405, 302, 303, 500, 501}\n"
     ]
    }
   ],
   "source": [
    "myset.add(501)\n",
    "print(myset)\n",
    "\n",
    "myset.update([303, 405])\n",
    "print(myset)\n",
    "\n"
   ]
  },
  {
   "cell_type": "code",
   "execution_count": 88,
   "id": "fc10bf24-2a44-4900-8c4c-22057d853219",
   "metadata": {},
   "outputs": [
    {
     "name": "stdout",
     "output_type": "stream",
     "text": [
      "{200, 402, 403, 405, 302, 303, 500, 501}\n"
     ]
    }
   ],
   "source": [
    "myset.discard(404)\n",
    "print(myset)"
   ]
  },
  {
   "cell_type": "code",
   "execution_count": 92,
   "id": "f39bf26e-8cf9-4156-9d0b-f1bf241efb56",
   "metadata": {},
   "outputs": [
    {
     "name": "stdout",
     "output_type": "stream",
     "text": [
      "{302, 303, 500, 501}\n"
     ]
    }
   ],
   "source": [
    "myset.pop()\n",
    "print(myset)"
   ]
  },
  {
   "cell_type": "code",
   "execution_count": 93,
   "id": "6b116759-8362-4f2a-947d-02cb02ca935d",
   "metadata": {},
   "outputs": [
    {
     "name": "stdout",
     "output_type": "stream",
     "text": [
      "set()\n"
     ]
    }
   ],
   "source": [
    "myset.clear()\n",
    "print(myset)"
   ]
  },
  {
   "cell_type": "code",
   "execution_count": 95,
   "id": "3df96daf-7b6e-4cde-8db4-6500d0b7dc61",
   "metadata": {},
   "outputs": [
    {
     "name": "stdout",
     "output_type": "stream",
     "text": [
      "set is empty\n"
     ]
    }
   ],
   "source": [
    "if len(myset)>0:\n",
    "    myset.pop()\n",
    "else:\n",
    "    print(\"set is empty\")"
   ]
  },
  {
   "cell_type": "code",
   "execution_count": 96,
   "id": "d8444364-6e21-41cf-b9de-8a2026f57a64",
   "metadata": {},
   "outputs": [
    {
     "name": "stdout",
     "output_type": "stream",
     "text": [
      "{1, 2, 3, 4, 5, 6, 7, 8}\n"
     ]
    }
   ],
   "source": [
    "myset.update([1,2,3,4,5,6,7,8])\n",
    "print(myset)"
   ]
  },
  {
   "cell_type": "code",
   "execution_count": 103,
   "id": "ae20a08e-0c4c-4d87-9d67-fb69f23e101e",
   "metadata": {},
   "outputs": [
    {
     "name": "stdout",
     "output_type": "stream",
     "text": [
      "{1, 2, 3, 4, 5, 6, 7, 8}\n",
      "{1, 2, 3, 4, 5, 6, 7, 8}\n",
      "{4, 5}\n",
      "{4, 5}\n",
      "{1, 2, 3}\n",
      "{1, 2, 3}\n",
      "{1, 2, 3, 6, 7, 8}\n",
      "{1, 2, 3, 6, 7, 8}\n"
     ]
    }
   ],
   "source": [
    "A = {1,2,3,4,5}\n",
    "B = {4,5,6,7,8}\n",
    "\n",
    "#union\n",
    "print(A|B)\n",
    "print(A.union(B))\n",
    "\n",
    "\n",
    "#intersection\n",
    "print(A&B)\n",
    "print(A.intersection(B))\n",
    "\n",
    "#difference- elements in A but not in B\n",
    "print(A-B)\n",
    "print(A.difference(B))\n",
    "\n",
    "#symmetric difference\n",
    "#elememts in either set, but not both\n",
    "\n",
    "print(A^B)\n",
    "print(A.symmetric_difference(B))"
   ]
  },
  {
   "cell_type": "code",
   "execution_count": 108,
   "id": "8c0d0c8c-7a8c-4b76-b7a8-f60a8045c323",
   "metadata": {},
   "outputs": [
    {
     "name": "stdout",
     "output_type": "stream",
     "text": [
      "Employee: Pragya, Salary: 7000000000\n",
      "Employee: Sumit, Salary: 800000000\n",
      "Employee: Anshul, Salary: 5500000\n"
     ]
    }
   ],
   "source": [
    "#dictionary\n",
    "employees = {\n",
    "    \"Pragya\": 7000000000,\n",
    "    \"Sumit\": 6000000,\n",
    "    \"Anshul\": 5500000\n",
    "}\n",
    "\n",
    "# Adding\n",
    "employees[\"Avish\"] = 650000\n",
    "\n",
    "# Updating\n",
    "employees[\"Sumit\"] = 800000000\n",
    "\n",
    "# Removing\n",
    "del employees[\"Avish\"]\n",
    "\n",
    "\n",
    "# Printing all employee\n",
    "for name, salary in employees.items():\n",
    "    print(f\"Employee: {name}, Salary: {salary}\")\n"
   ]
  },
  {
   "cell_type": "code",
   "execution_count": 111,
   "id": "657ded72-a46b-4075-9900-420864688569",
   "metadata": {},
   "outputs": [
    {
     "name": "stdout",
     "output_type": "stream",
     "text": [
      "Employee ID: emp1, Name: Pragya, Salary: 7000000000\n",
      "Employee ID: emp2, Name: Sumit, Salary: 800000000\n",
      "Employee ID: emp3, Name: Anshul, Salary: 5500000\n"
     ]
    }
   ],
   "source": [
    "employees = {\n",
    "    \"emp1\": {\"name\": \"Pragya\", \"salary\": 7000000000},\n",
    "    \"emp2\": {\"name\": \"Sumit\", \"salary\": 6000000},\n",
    "    \"emp3\": {\"name\": \"Anshul\", \"salary\": 5500000}\n",
    "}\n",
    "\n",
    "# Adding\n",
    "employees[\"emp4\"] = {\"name\": \"Avish\", \"salary\": 650000}\n",
    "\n",
    "# Updating\n",
    "employees[\"emp2\"][\"salary\"] = 800000000\n",
    "\n",
    "# Removing\n",
    "del employees[\"emp4\"]\n",
    "\n",
    "# Printing all employees\n",
    "for emp_id, details in employees.items():\n",
    "    print(f\"Employee ID: {emp_id}, Name: {details['name']}, Salary: {details['salary']}\")\n"
   ]
  },
  {
   "cell_type": "code",
   "execution_count": 117,
   "id": "d2756644-bb98-4e06-8666-94c224022cc3",
   "metadata": {},
   "outputs": [
    {
     "name": "stdout",
     "output_type": "stream",
     "text": [
      "------------------------\n",
      "name   Pragya\n",
      "salary   70000000000\n",
      "------------------------\n",
      "name   Sumit\n",
      "salary   80000000000\n",
      "------------------------\n",
      "name   Anshul\n",
      "salary   5500000\n"
     ]
    }
   ],
   "source": [
    "employees = {\n",
    "    \"emp1\": {\"name\": \"Pragya\", \"salary\": 70000000000},\n",
    "    \"emp2\": {\"name\": \"Sumit\", \"salary\": 80000000000},\n",
    "    \"emp3\": {\"name\": \"Anshul\", \"salary\": 5500000}\n",
    "}\n",
    "def print_employees(employees):\n",
    "    for emp in employees:\n",
    "        print(\"------------------------\")\n",
    "        for key, value in employees[emp].items():\n",
    "            print(key,\" \", value)\n",
    "\n",
    "print_employees(employees)"
   ]
  },
  {
   "cell_type": "code",
   "execution_count": 122,
   "id": "a3d2eebb-8729-4232-a569-c28b7b606ff7",
   "metadata": {},
   "outputs": [
    {
     "name": "stdout",
     "output_type": "stream",
     "text": [
      "Employee added successfully\n",
      "------------------------\n",
      "id : 1\n",
      "name : Pragya\n",
      "department : HR\n",
      "salary : 70000000000\n",
      "------------------------\n",
      "id : 2\n",
      "name : Sumit\n",
      "department : IT\n",
      "salary : 80000000000\n",
      "------------------------\n",
      "id : 3\n",
      "name : Anshul\n",
      "department : Finance\n",
      "salary : 5500000\n",
      "------------------------\n",
      "id : 101\n",
      "name : Jack\n",
      "department : Finance\n",
      "salary : 677788\n"
     ]
    }
   ],
   "source": [
    "employees = {\n",
    "    \"emp1\": {\"id\": 1, \"name\": \"Pragya\", \"department\": \"HR\", \"salary\": 70000000000},\n",
    "    \"emp2\": {\"id\": 2, \"name\": \"Sumit\", \"department\": \"IT\", \"salary\": 80000000000},\n",
    "    \"emp3\": {\"id\": 3, \"name\": \"Anshul\", \"department\": \"Finance\", \"salary\": 5500000}\n",
    "}\n",
    "\n",
    "def add_employee(id, name, department, salary):\n",
    "    n = len(employees)\n",
    "    employees[f'emp{n+1}'] = {\"id\": id, \"name\": name, \"department\": department, \"salary\": salary}\n",
    "    print(\"Employee added successfully\")\n",
    "\n",
    "def update_employee(id, salary):\n",
    "    for emp in employees:\n",
    "        if employees[emp]['id'] == id:\n",
    "            employees[emp]['salary'] = salary\n",
    "            break\n",
    "\n",
    "def remove_employee(id):\n",
    "    for emp in list(employees):\n",
    "        if employees[emp]['id'] == id:\n",
    "            del employees[emp]\n",
    "            break\n",
    "\n",
    "def print_employees(employees):\n",
    "    for emp in employees:\n",
    "        print(\"------------------------\")\n",
    "        for key in employees[emp]:\n",
    "            print(key, \":\", employees[emp][key])\n",
    "\n",
    "# Adding a new employee\n",
    "add_employee(101, \"Jack\", \"Finance\", 7888)\n",
    "\n",
    "# Updating an employee's salary\n",
    "update_employee(101, 677788)\n",
    "\n",
    "# Printing all employees\n",
    "print_employees(employees)\n"
   ]
  },
  {
   "cell_type": "code",
   "execution_count": null,
   "id": "32552d15-c1bb-4eb2-b0f4-4d77c59811bb",
   "metadata": {},
   "outputs": [],
   "source": []
  }
 ],
 "metadata": {
  "kernelspec": {
   "display_name": "Python 3 (ipykernel)",
   "language": "python",
   "name": "python3"
  },
  "language_info": {
   "codemirror_mode": {
    "name": "ipython",
    "version": 3
   },
   "file_extension": ".py",
   "mimetype": "text/x-python",
   "name": "python",
   "nbconvert_exporter": "python",
   "pygments_lexer": "ipython3",
   "version": "3.13.2"
  }
 },
 "nbformat": 4,
 "nbformat_minor": 5
}
