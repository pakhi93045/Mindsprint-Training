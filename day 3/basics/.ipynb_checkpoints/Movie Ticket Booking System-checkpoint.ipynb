{
 "cells": [
  {
   "cell_type": "code",
   "execution_count": 18,
   "id": "0c90b1f4-d0b8-4ce8-b3c5-46a2cf12bf99",
   "metadata": {},
   "outputs": [],
   "source": [
    "movies = []  # List of movies (each movie is a dictionary)\n",
    "theaters = set()  # Set of unique theaters\n",
    "ticket_pricing = (250, 500, 750)  # Fixed ticket pricing\n",
    "customers = {}  # Dictionary of customers and their booked movies\n",
    "\n",
    "def add_movie(title, genre, showtime):\n",
    "    movie = {\"title\": title, \"genre\": genre, \"showtime\": showtime}\n",
    "    movies.append(movie)\n",
    "    print(f\"Movie '{title}' added successfully!\")"
   ]
  },
  {
   "cell_type": "code",
   "execution_count": 19,
   "id": "ececda4f-5731-459d-95c8-6b94144b6f86",
   "metadata": {},
   "outputs": [],
   "source": [
    "def remove_movie(title):\n",
    "    global movies\n",
    "    movies = [movie for movie in movies if movie[\"title\"] != title]\n",
    "    print(f\"Movie '{title}' removed successfully!\")"
   ]
  },
  {
   "cell_type": "code",
   "execution_count": 20,
   "id": "c405fac9-d521-41ff-bd96-d6badfc4629e",
   "metadata": {},
   "outputs": [],
   "source": [
    "def add_theater(theater_name):\n",
    "    theaters.add(theater_name)\n",
    "    print(f\"Theater '{theater_name}' added successfully!\")\n"
   ]
  },
  {
   "cell_type": "code",
   "execution_count": 21,
   "id": "f106ee56-6922-416e-877b-e94dad5da928",
   "metadata": {},
   "outputs": [],
   "source": [
    "def add_customer(customer_name):\n",
    "    if customer_name not in customers:\n",
    "        customers[customer_name] = []\n",
    "        print(f\"Customer '{customer_name}' added successfully!\")\n",
    "    else:\n",
    "        print(f\"Customer '{customer_name}' already exists!\")"
   ]
  },
  {
   "cell_type": "code",
   "execution_count": 22,
   "id": "883c0037-5fcc-4741-add0-84147da8c149",
   "metadata": {},
   "outputs": [],
   "source": [
    "def book_ticket(customer_name, movie_title):\n",
    "    movie_found = False\n",
    "    for movie in movies:\n",
    "        if movie[\"title\"] == movie_title:\n",
    "            movie_found = True\n",
    "            if customer_name in customers:\n",
    "                customers[customer_name].append(movie_title)\n",
    "                print(f\"'{movie_title}' booked successfully for {customer_name}!\")\n",
    "            else:\n",
    "                print(f\"Customer '{customer_name}' not found! Please add the customer first.\")\n",
    "            break\n",
    "    if not movie_found:\n",
    "        print(f\"Movie '{movie_title}' not available!\")"
   ]
  },
  {
   "cell_type": "code",
   "execution_count": 23,
   "id": "e3d1a694-54ad-42a9-af4b-dcf3fd8a7a8e",
   "metadata": {},
   "outputs": [],
   "source": [
    "def print_details():\n",
    "    print(\"\\nMovies:\")\n",
    "    for movie in movies:\n",
    "        print(f\"Title: {movie['title']}, Genre: {movie['genre']}, Showtime: {movie['showtime']}\")\n",
    "    \n",
    "    print(\"\\nTheaters:\")\n",
    "    for theater in theaters:\n",
    "        print(theater)\n",
    "    \n",
    "    print(\"\\nTicket Pricing:\")\n",
    "    print(ticket_pricing)\n",
    "    \n",
    "    print(\"\\nCustomer Bookings:\")\n",
    "    for customer, bookings in customers.items():\n",
    "        print(f\"{customer}: {', '.join(bookings) if bookings else 'No bookings'}\")"
   ]
  },
  {
   "cell_type": "code",
   "execution_count": null,
   "id": "cdf9db5b-0e98-494b-82d9-8feda220c858",
   "metadata": {},
   "outputs": [
    {
     "name": "stdout",
     "output_type": "stream",
     "text": [
      "\n",
      "Movie Ticket Booking System\n",
      "1. Add Movie\n",
      "2. Remove Movie\n",
      "3. Add Theater\n",
      "4. Add Customer\n",
      "5. Book Ticket\n",
      "6. View Details\n",
      "7. Exit\n"
     ]
    }
   ],
   "source": [
    "def menu():\n",
    "    while True:\n",
    "        print(\"\\nMovie Ticket Booking System\")\n",
    "        print(\"1. Add Movie\")\n",
    "        print(\"2. Remove Movie\")\n",
    "        print(\"3. Add Theater\")\n",
    "        print(\"4. Add Customer\")\n",
    "        print(\"5. Book Ticket\")\n",
    "        print(\"6. View Details\")\n",
    "        print(\"7. Exit\")\n",
    "        choice = input(\"Enter your choice: \")\n",
    "        \n",
    "        if choice == \"1\":\n",
    "            title = input(\"Enter movie title: \")\n",
    "            genre = input(\"Enter movie genre: \")\n",
    "            showtime = input(\"Enter showtime: \")\n",
    "            add_movie(title, genre, showtime)  \n",
    "        elif choice == \"2\":\n",
    "            title = input(\"Enter movie title to remove: \")\n",
    "            remove_movie(title)\n",
    "        elif choice == \"3\":\n",
    "            theater_name = input(\"Enter theater name: \")\n",
    "            add_theater(theater_name)\n",
    "        elif choice == \"4\":\n",
    "            customer_name = input(\"Enter customer name: \")\n",
    "            add_customer(customer_name)\n",
    "        elif choice == \"5\":\n",
    "            customer_name = input(\"Enter customer name: \")\n",
    "            movie_title = input(\"Enter movie title to book: \")\n",
    "            book_ticket(customer_name, movie_title)\n",
    "        elif choice == \"6\":\n",
    "            print_details()\n",
    "        elif choice == \"7\":\n",
    "            print(\"Exiting...\")\n",
    "            break\n",
    "        else:\n",
    "            print(\"Invalid choice! Please try again.\")\n",
    "\n",
    "menu()\n"
   ]
  },
  {
   "cell_type": "code",
   "execution_count": null,
   "id": "89fdb198-d961-4351-869f-a16a79c40c14",
   "metadata": {},
   "outputs": [],
   "source": []
  }
 ],
 "metadata": {
  "kernelspec": {
   "display_name": "Python 3 (ipykernel)",
   "language": "python",
   "name": "python3"
  },
  "language_info": {
   "codemirror_mode": {
    "name": "ipython",
    "version": 3
   },
   "file_extension": ".py",
   "mimetype": "text/x-python",
   "name": "python",
   "nbconvert_exporter": "python",
   "pygments_lexer": "ipython3",
   "version": "3.13.2"
  },
  "widgets": {
   "application/vnd.jupyter.widget-state+json": {
    "state": {},
    "version_major": 2,
    "version_minor": 0
   }
  }
 },
 "nbformat": 4,
 "nbformat_minor": 5
}
