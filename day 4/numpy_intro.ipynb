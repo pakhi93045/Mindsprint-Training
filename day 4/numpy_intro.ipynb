{
 "cells": [
  {
   "cell_type": "code",
   "execution_count": 1,
   "id": "dcab77c6-9c3d-4fba-8536-77871b1ba07f",
   "metadata": {},
   "outputs": [],
   "source": [
    "import numpy as np"
   ]
  },
  {
   "cell_type": "code",
   "execution_count": 2,
   "id": "d319727f-873f-4702-b0ee-7974c25404f1",
   "metadata": {},
   "outputs": [
    {
     "name": "stdout",
     "output_type": "stream",
     "text": [
      "2.2.3\n"
     ]
    }
   ],
   "source": [
    "print(np.__version__)"
   ]
  },
  {
   "cell_type": "code",
   "execution_count": 4,
   "id": "5e1db325-e143-4ab5-8fd7-0b3cdada2863",
   "metadata": {},
   "outputs": [
    {
     "name": "stdout",
     "output_type": "stream",
     "text": [
      "[10 20 30 40 50]\n",
      "Type: <class 'numpy.ndarray'>\n",
      "Shape: (5,)\n"
     ]
    }
   ],
   "source": [
    "# array creation\n",
    "list=[10, 20, 30, 40, 50]\n",
    "arr = np.array(list)\n",
    "print(arr)\n",
    "print('Type:', type(arr))\n",
    "print('Shape:', arr.shape)"
   ]
  },
  {
   "cell_type": "code",
   "execution_count": 15,
   "id": "f013ce0a-184b-44cb-afc6-b7fcc4a35583",
   "metadata": {},
   "outputs": [
    {
     "name": "stdout",
     "output_type": "stream",
     "text": [
      "[[1 2 3]\n",
      " [4 5 6]]\n",
      "------------------------------\n",
      "Shape: (2, 3)\n",
      "------------------------------\n",
      "Shape: 6\n",
      "------------------------------\n",
      "[1 2 3]\n",
      "------------------------------\n",
      "3\n"
     ]
    }
   ],
   "source": [
    "arr1 = np.array([1,2,3,4])\n",
    "arr2 = np.array([[1,2,3],[4,5,6]])\n",
    "print(arr2)\n",
    "print(\"------------------------------\")\n",
    "print('Shape:', arr2.shape)\n",
    "print(\"------------------------------\")\n",
    "print('Shape:', arr2.size)\n",
    "print(\"------------------------------\")\n",
    "print(arr2[0])\n",
    "print(\"------------------------------\")\n",
    "print(arr2[0][2]) #print first row second column"
   ]
  },
  {
   "cell_type": "code",
   "execution_count": 19,
   "id": "b9ac1c7e-6986-4ee6-9978-b9d08f3165b8",
   "metadata": {},
   "outputs": [
    {
     "name": "stdout",
     "output_type": "stream",
     "text": [
      "[[0. 0. 0.]\n",
      " [0. 0. 0.]]\n"
     ]
    }
   ],
   "source": [
    "#generate arrays\n",
    "\n",
    "print(np.zeros((2,3)))\n"
   ]
  },
  {
   "cell_type": "code",
   "execution_count": 20,
   "id": "f76b9dba-eb89-405d-abb6-9f7ade1122c5",
   "metadata": {},
   "outputs": [
    {
     "name": "stdout",
     "output_type": "stream",
     "text": [
      "[[1. 1. 1.]\n",
      " [1. 1. 1.]\n",
      " [1. 1. 1.]]\n"
     ]
    }
   ],
   "source": [
    "arr2 = np.ones((3,3))\n",
    "print(arr2)"
   ]
  },
  {
   "cell_type": "code",
   "execution_count": 24,
   "id": "56c301e0-9449-46eb-bce1-4e7c9ae06ebb",
   "metadata": {},
   "outputs": [
    {
     "name": "stdout",
     "output_type": "stream",
     "text": [
      "[1 4 7]\n"
     ]
    }
   ],
   "source": [
    "arr3 = np.arange(1,10,3)\n",
    "print(arr3)"
   ]
  },
  {
   "cell_type": "code",
   "execution_count": 26,
   "id": "60f6f077-6703-43ab-8129-bc696f0eaf2d",
   "metadata": {},
   "outputs": [
    {
     "name": "stdout",
     "output_type": "stream",
     "text": [
      "[[1 4 7]\n",
      " [2 5 8]]\n"
     ]
    }
   ],
   "source": [
    "sample = np.array([np.arange(1,10,3),np.arange(2,10,3)])\n",
    "print(sample)"
   ]
  },
  {
   "cell_type": "code",
   "execution_count": 30,
   "id": "9b345980-8190-4602-8ec8-9a2ae604617b",
   "metadata": {},
   "outputs": [
    {
     "name": "stdout",
     "output_type": "stream",
     "text": [
      "[ 3  9 15]\n",
      "-------------------------------\n",
      "[ 2 20 56]\n",
      "-------------------------------\n",
      "[ 1 16 49]\n"
     ]
    }
   ],
   "source": [
    "a = np.arange(1,10,3)\n",
    "b = np.arange(2,10,3)\n",
    "\n",
    "print(a+b)\n",
    "print(\"-------------------------------\")\n",
    "print(a*b)\n",
    "print(\"-------------------------------\")\n",
    "print(a**2)\n"
   ]
  },
  {
   "cell_type": "code",
   "execution_count": 34,
   "id": "cb0350f9-40d2-497c-9968-6500a3197478",
   "metadata": {},
   "outputs": [
    {
     "name": "stdout",
     "output_type": "stream",
     "text": [
      "Total Spend:  [ 450  950  450 1650  230]\n",
      "-------------------------------\n",
      "Average Spend:  [150.         316.66666667 150.         550.          76.66666667]\n",
      "-------------------------------\n",
      "550.0\n"
     ]
    }
   ],
   "source": [
    "purchases = np.array([\n",
    "    [200,150,100],\n",
    "    [300,250,400],\n",
    "    [100,200,150],\n",
    "    [500,600,550],\n",
    "    [50,80,100],\n",
    "])\n",
    "#axis = 1 is horizontal calculation and axis = 0 means vertical calculation\n",
    "total_spend = purchases.sum(axis=1)\n",
    "\n",
    "average_spend = purchases.mean(axis=1)\n",
    "\n",
    "print(\"Total Spend: \",total_spend)\n",
    "print(\"-------------------------------\")\n",
    "print(\"Average Spend: \",average_spend)\n",
    "print(\"-------------------------------\")\n",
    "print(max(average_spend))"
   ]
  },
  {
   "cell_type": "code",
   "execution_count": 36,
   "id": "b2aaab21-979f-492a-bbc1-72435eaf2fdd",
   "metadata": {},
   "outputs": [
    {
     "name": "stdout",
     "output_type": "stream",
     "text": [
      "Solution (x,y): [2.2 1.2]\n"
     ]
    }
   ],
   "source": [
    "# 2x+3y = 8\n",
    "#4x+y=10\n",
    "\n",
    "#coefficients of variables\n",
    "\n",
    "A = np.array([[2,3],[4,1]])\n",
    "\n",
    "#constants on the right hand side\n",
    "\n",
    "B = np.array([8,10])\n",
    "\n",
    "solution = np.linalg.solve(A,B)\n",
    "\n",
    "print(\"Solution (x,y):\", solution)"
   ]
  },
  {
   "cell_type": "markdown",
   "id": "fad3278c-49c4-43a3-a801-5d20cf258493",
   "metadata": {},
   "source": [
    "#activity"
   ]
  },
  {
   "cell_type": "code",
   "execution_count": 53,
   "id": "21aa9613-739a-43e7-8137-fd7e5f3868d2",
   "metadata": {},
   "outputs": [
    {
     "name": "stdout",
     "output_type": "stream",
     "text": [
      "Total sales:  35201\n",
      "Average sales:  3520.1\n",
      "Maximum sales:  9075\n",
      "Minimum sales:  1000\n"
     ]
    }
   ],
   "source": [
    "sales = np.array([1000, 1200, 1300, 1400, 1500, 8890, 4122, 4358, 9075, 2356])\n",
    "print(\"Total sales: \",sales.sum())\n",
    "print(\"Average sales: \",np.average(sales))\n",
    "print(\"Maximum sales: \",sales.max())\n",
    "print(\"Minimum sales: \",sales.min())"
   ]
  },
  {
   "cell_type": "code",
   "execution_count": 47,
   "id": "fed5bcb9-8edb-4925-96db-5ba15c4cf206",
   "metadata": {},
   "outputs": [
    {
     "name": "stdout",
     "output_type": "stream",
     "text": [
      "[1100.  1320.  1430.  1540.  1650.  9779.  4534.2 4793.8 9982.5 2591.6]\n"
     ]
    }
   ],
   "source": [
    "arr = sales*1.10\n",
    "print(arr)"
   ]
  },
  {
   "cell_type": "code",
   "execution_count": 49,
   "id": "4af3fc09-763a-45bc-a045-6a0867b699dd",
   "metadata": {},
   "outputs": [
    {
     "name": "stdout",
     "output_type": "stream",
     "text": [
      "[1000 1200 1300 1400 1500 2356 4122 4358 8890 9075]\n"
     ]
    }
   ],
   "source": [
    "print(np.sort(sales))"
   ]
  },
  {
   "cell_type": "code",
   "execution_count": 52,
   "id": "b2952adf-9efc-49f0-a762-7eeba19791e9",
   "metadata": {},
   "outputs": [
    {
     "name": "stdout",
     "output_type": "stream",
     "text": [
      "Sales higher than average:  [4122 4358 8890 9075]\n"
     ]
    }
   ],
   "source": [
    "print(\"Sales higher than average: \", sales[sales>np.average(sales)])\n"
   ]
  },
  {
   "cell_type": "code",
   "execution_count": 54,
   "id": "9f22d1d6-ddc5-43b8-ba29-5db04b72ef54",
   "metadata": {},
   "outputs": [],
   "source": [
    "import pandas as pd"
   ]
  },
  {
   "cell_type": "code",
   "execution_count": 55,
   "id": "484b41fb-6a78-42da-9fdc-242130e320a3",
   "metadata": {},
   "outputs": [],
   "source": [
    "df = pd.read_csv('new.csv')"
   ]
  },
  {
   "cell_type": "code",
   "execution_count": 56,
   "id": "3f441045-1c74-460a-ac97-f5d832fc613c",
   "metadata": {},
   "outputs": [
    {
     "name": "stdout",
     "output_type": "stream",
     "text": [
      "<class 'pandas.core.frame.DataFrame'>\n",
      "RangeIndex: 10 entries, 0 to 9\n",
      "Data columns (total 7 columns):\n",
      " #   Column        Non-Null Count  Dtype  \n",
      "---  ------        --------------  -----  \n",
      " 0   Order_ID      10 non-null     int64  \n",
      " 1   Product       10 non-null     object \n",
      " 2   Category      10 non-null     object \n",
      " 3   Quantity      10 non-null     int64  \n",
      " 4   Price         10 non-null     int64  \n",
      " 5   Total_Amount  0 non-null      float64\n",
      " 6   Date          10 non-null     object \n",
      "dtypes: float64(1), int64(3), object(3)\n",
      "memory usage: 692.0+ bytes\n"
     ]
    }
   ],
   "source": [
    "df.info()"
   ]
  },
  {
   "cell_type": "code",
   "execution_count": 57,
   "id": "ec6d5beb-bc28-451c-af86-4b6da8ace207",
   "metadata": {},
   "outputs": [
    {
     "data": {
      "text/html": [
       "<div>\n",
       "<style scoped>\n",
       "    .dataframe tbody tr th:only-of-type {\n",
       "        vertical-align: middle;\n",
       "    }\n",
       "\n",
       "    .dataframe tbody tr th {\n",
       "        vertical-align: top;\n",
       "    }\n",
       "\n",
       "    .dataframe thead th {\n",
       "        text-align: right;\n",
       "    }\n",
       "</style>\n",
       "<table border=\"1\" class=\"dataframe\">\n",
       "  <thead>\n",
       "    <tr style=\"text-align: right;\">\n",
       "      <th></th>\n",
       "      <th>Order_ID</th>\n",
       "      <th>Product</th>\n",
       "      <th>Category</th>\n",
       "      <th>Quantity</th>\n",
       "      <th>Price</th>\n",
       "      <th>Total_Amount</th>\n",
       "      <th>Date</th>\n",
       "    </tr>\n",
       "  </thead>\n",
       "  <tbody>\n",
       "    <tr>\n",
       "      <th>0</th>\n",
       "      <td>False</td>\n",
       "      <td>False</td>\n",
       "      <td>False</td>\n",
       "      <td>False</td>\n",
       "      <td>False</td>\n",
       "      <td>True</td>\n",
       "      <td>False</td>\n",
       "    </tr>\n",
       "    <tr>\n",
       "      <th>1</th>\n",
       "      <td>False</td>\n",
       "      <td>False</td>\n",
       "      <td>False</td>\n",
       "      <td>False</td>\n",
       "      <td>False</td>\n",
       "      <td>True</td>\n",
       "      <td>False</td>\n",
       "    </tr>\n",
       "    <tr>\n",
       "      <th>2</th>\n",
       "      <td>False</td>\n",
       "      <td>False</td>\n",
       "      <td>False</td>\n",
       "      <td>False</td>\n",
       "      <td>False</td>\n",
       "      <td>True</td>\n",
       "      <td>False</td>\n",
       "    </tr>\n",
       "    <tr>\n",
       "      <th>3</th>\n",
       "      <td>False</td>\n",
       "      <td>False</td>\n",
       "      <td>False</td>\n",
       "      <td>False</td>\n",
       "      <td>False</td>\n",
       "      <td>True</td>\n",
       "      <td>False</td>\n",
       "    </tr>\n",
       "    <tr>\n",
       "      <th>4</th>\n",
       "      <td>False</td>\n",
       "      <td>False</td>\n",
       "      <td>False</td>\n",
       "      <td>False</td>\n",
       "      <td>False</td>\n",
       "      <td>True</td>\n",
       "      <td>False</td>\n",
       "    </tr>\n",
       "    <tr>\n",
       "      <th>5</th>\n",
       "      <td>False</td>\n",
       "      <td>False</td>\n",
       "      <td>False</td>\n",
       "      <td>False</td>\n",
       "      <td>False</td>\n",
       "      <td>True</td>\n",
       "      <td>False</td>\n",
       "    </tr>\n",
       "    <tr>\n",
       "      <th>6</th>\n",
       "      <td>False</td>\n",
       "      <td>False</td>\n",
       "      <td>False</td>\n",
       "      <td>False</td>\n",
       "      <td>False</td>\n",
       "      <td>True</td>\n",
       "      <td>False</td>\n",
       "    </tr>\n",
       "    <tr>\n",
       "      <th>7</th>\n",
       "      <td>False</td>\n",
       "      <td>False</td>\n",
       "      <td>False</td>\n",
       "      <td>False</td>\n",
       "      <td>False</td>\n",
       "      <td>True</td>\n",
       "      <td>False</td>\n",
       "    </tr>\n",
       "    <tr>\n",
       "      <th>8</th>\n",
       "      <td>False</td>\n",
       "      <td>False</td>\n",
       "      <td>False</td>\n",
       "      <td>False</td>\n",
       "      <td>False</td>\n",
       "      <td>True</td>\n",
       "      <td>False</td>\n",
       "    </tr>\n",
       "    <tr>\n",
       "      <th>9</th>\n",
       "      <td>False</td>\n",
       "      <td>False</td>\n",
       "      <td>False</td>\n",
       "      <td>False</td>\n",
       "      <td>False</td>\n",
       "      <td>True</td>\n",
       "      <td>False</td>\n",
       "    </tr>\n",
       "  </tbody>\n",
       "</table>\n",
       "</div>"
      ],
      "text/plain": [
       "   Order_ID  Product  Category  Quantity  Price  Total_Amount   Date\n",
       "0     False    False     False     False  False          True  False\n",
       "1     False    False     False     False  False          True  False\n",
       "2     False    False     False     False  False          True  False\n",
       "3     False    False     False     False  False          True  False\n",
       "4     False    False     False     False  False          True  False\n",
       "5     False    False     False     False  False          True  False\n",
       "6     False    False     False     False  False          True  False\n",
       "7     False    False     False     False  False          True  False\n",
       "8     False    False     False     False  False          True  False\n",
       "9     False    False     False     False  False          True  False"
      ]
     },
     "execution_count": 57,
     "metadata": {},
     "output_type": "execute_result"
    }
   ],
   "source": [
    "df.isna() #to check null values"
   ]
  },
  {
   "cell_type": "code",
   "execution_count": 63,
   "id": "1ec1e4f9-c468-4507-a442-b646b1572474",
   "metadata": {},
   "outputs": [],
   "source": [
    "df = df.fillna(0) #handling missing values.here we are filling the null values with 0"
   ]
  },
  {
   "cell_type": "code",
   "execution_count": 64,
   "id": "bda1849d-4cd9-4023-9cb8-a163648c8111",
   "metadata": {},
   "outputs": [
    {
     "data": {
      "text/plain": [
       "0    False\n",
       "1    False\n",
       "2    False\n",
       "3    False\n",
       "4    False\n",
       "5    False\n",
       "6    False\n",
       "7    False\n",
       "8    False\n",
       "9    False\n",
       "dtype: bool"
      ]
     },
     "execution_count": 64,
     "metadata": {},
     "output_type": "execute_result"
    }
   ],
   "source": [
    "df.duplicated()\n"
   ]
  },
  {
   "cell_type": "code",
   "execution_count": 65,
   "id": "a629a841-2f97-441a-8880-b1d8466ee37f",
   "metadata": {},
   "outputs": [
    {
     "name": "stdout",
     "output_type": "stream",
     "text": [
      "   Order_ID       Product     Category  Quantity  Price  Total_Amount  \\\n",
      "0      1001        Laptop  Electronics         2    700           0.0   \n",
      "1      1002  Mobile Phone  Electronics         1    500           0.0   \n",
      "2      1003    Headphones  Accessories         3     50           0.0   \n",
      "3      1004         Mouse  Accessories         2     20           0.0   \n",
      "4      1005      Keyboard  Accessories         1     30           0.0   \n",
      "5      1006       T-shirt     Clothing         4     15           0.0   \n",
      "6      1007        Jacket     Clothing         1     60           0.0   \n",
      "7      1008  Refrigerator  Electronics         1    900           0.0   \n",
      "8      1009            TV  Electronics         2   1100           0.0   \n",
      "9      1010         Shoes     Clothing         2     40           0.0   \n",
      "\n",
      "         Date  \n",
      "0  2024-02-01  \n",
      "1  2024-02-02  \n",
      "2  2024-02-03  \n",
      "3  2024-02-04  \n",
      "4  2024-02-05  \n",
      "5  2024-02-06  \n",
      "6  2024-02-07  \n",
      "7  2024-02-08  \n",
      "8  2024-02-09  \n",
      "9  2024-02-10  \n"
     ]
    }
   ],
   "source": [
    "print(df)"
   ]
  },
  {
   "cell_type": "code",
   "execution_count": 66,
   "id": "2d03e69f-0dac-49d7-8367-cc6a707443e5",
   "metadata": {},
   "outputs": [
    {
     "data": {
      "text/plain": [
       "Order_ID          int64\n",
       "Product          object\n",
       "Category         object\n",
       "Quantity          int64\n",
       "Price             int64\n",
       "Total_Amount    float64\n",
       "Date             object\n",
       "dtype: object"
      ]
     },
     "execution_count": 66,
     "metadata": {},
     "output_type": "execute_result"
    }
   ],
   "source": [
    "df.dtypes"
   ]
  },
  {
   "cell_type": "code",
   "execution_count": 67,
   "id": "c1bc5ed5-2133-48c3-8fe9-08c9759567e2",
   "metadata": {},
   "outputs": [
    {
     "data": {
      "text/plain": [
       "0   2024-02-01\n",
       "1   2024-02-02\n",
       "2   2024-02-03\n",
       "3   2024-02-04\n",
       "4   2024-02-05\n",
       "5   2024-02-06\n",
       "6   2024-02-07\n",
       "7   2024-02-08\n",
       "8   2024-02-09\n",
       "9   2024-02-10\n",
       "Name: Date, dtype: datetime64[ns]"
      ]
     },
     "execution_count": 67,
     "metadata": {},
     "output_type": "execute_result"
    }
   ],
   "source": [
    "pd.to_datetime(df['Date'],)\n"
   ]
  },
  {
   "cell_type": "code",
   "execution_count": 68,
   "id": "a2ce6e4d-823f-4dd8-8cd8-67bfbf004419",
   "metadata": {},
   "outputs": [
    {
     "data": {
      "text/plain": [
       "Order_ID          int64\n",
       "Product          object\n",
       "Category         object\n",
       "Quantity          int64\n",
       "Price             int64\n",
       "Total_Amount    float64\n",
       "Date             object\n",
       "dtype: object"
      ]
     },
     "execution_count": 68,
     "metadata": {},
     "output_type": "execute_result"
    }
   ],
   "source": [
    "df.dtypes"
   ]
  },
  {
   "cell_type": "code",
   "execution_count": 71,
   "id": "77dc666b-c7ab-4ca7-8cad-50b77cae5395",
   "metadata": {},
   "outputs": [
    {
     "data": {
      "text/plain": [
       "Order_ID          int64\n",
       "Product          object\n",
       "Category         object\n",
       "Quantity          int64\n",
       "Price             int64\n",
       "Total_Amount    float64\n",
       "Date             object\n",
       "dtype: object"
      ]
     },
     "execution_count": 71,
     "metadata": {},
     "output_type": "execute_result"
    }
   ],
   "source": [
    "df['Product'] = df['Product'].astype(str)\n",
    "df['Category'] = df['Category'].astype(str)\n",
    "df.dtypes"
   ]
  },
  {
   "cell_type": "code",
   "execution_count": 72,
   "id": "b7ec6110-30c7-4ca6-bcaf-d2dbb9de5450",
   "metadata": {},
   "outputs": [],
   "source": [
    "df['Quantity'] = df['Quantity'].astype(int)"
   ]
  },
  {
   "cell_type": "code",
   "execution_count": 73,
   "id": "2a3daa78-2952-4004-ab07-f01a273c3649",
   "metadata": {},
   "outputs": [
    {
     "data": {
      "text/plain": [
       "Order_ID          int64\n",
       "Product          object\n",
       "Category         object\n",
       "Quantity          int64\n",
       "Price             int64\n",
       "Total_Amount    float64\n",
       "Date             object\n",
       "dtype: object"
      ]
     },
     "execution_count": 73,
     "metadata": {},
     "output_type": "execute_result"
    }
   ],
   "source": [
    "df.dtypes"
   ]
  },
  {
   "cell_type": "markdown",
   "id": "d55f82a3-fa6e-4367-b5b8-ee15d4c06728",
   "metadata": {},
   "source": [
    "#outlier"
   ]
  },
  {
   "cell_type": "code",
   "execution_count": 78,
   "id": "2c356378-96f3-49a0-8c87-b901810d7246",
   "metadata": {},
   "outputs": [
    {
     "name": "stdout",
     "output_type": "stream",
     "text": [
      "Outliers:  []\n"
     ]
    }
   ],
   "source": [
    "data = np.array([10, 12, 34, 56, 78, 90, 100])\n",
    "\n",
    "q1 = np.percentile(data,25)\n",
    "q3 = np.percentile(data,75)\n",
    "\n",
    "IQR = q3-q1\n",
    "\n",
    "lower_bound = q1-1.5*IQR\n",
    "upper_bound = q3+1.5*IQR\n",
    "\n",
    "outliers = data[(data<lower_bound)|(data>upper_bound)]\n",
    "\n",
    "print(\"Outliers: \", outliers)"
   ]
  },
  {
   "cell_type": "code",
   "execution_count": null,
   "id": "f02ab315-8b27-44d5-8ce3-81974d8eb85a",
   "metadata": {},
   "outputs": [],
   "source": []
  }
 ],
 "metadata": {
  "kernelspec": {
   "display_name": "Python 3 (ipykernel)",
   "language": "python",
   "name": "python3"
  },
  "language_info": {
   "codemirror_mode": {
    "name": "ipython",
    "version": 3
   },
   "file_extension": ".py",
   "mimetype": "text/x-python",
   "name": "python",
   "nbconvert_exporter": "python",
   "pygments_lexer": "ipython3",
   "version": "3.13.2"
  },
  "widgets": {
   "application/vnd.jupyter.widget-state+json": {
    "state": {},
    "version_major": 2,
    "version_minor": 0
   }
  }
 },
 "nbformat": 4,
 "nbformat_minor": 5
}
