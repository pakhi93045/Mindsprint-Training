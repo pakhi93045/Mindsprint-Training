{
 "cells": [
  {
   "cell_type": "code",
   "execution_count": 1,
   "id": "126514f5-ae8d-4255-9e00-def326a5c4cd",
   "metadata": {},
   "outputs": [],
   "source": [
    "import pandas as pd"
   ]
  },
  {
   "cell_type": "code",
   "execution_count": 2,
   "id": "27c3ad39-a547-4567-9539-7b149b34551e",
   "metadata": {},
   "outputs": [],
   "source": [
    "df = pd.read_csv('marks_data.csv')"
   ]
  },
  {
   "cell_type": "code",
   "execution_count": 15,
   "id": "f63c3318-44e2-4a46-bc9a-7c31ca46f56f",
   "metadata": {},
   "outputs": [
    {
     "name": "stdout",
     "output_type": "stream",
     "text": [
      "   Student_ID                Name   Math  Science  English  Total  \\\n",
      "0           1    Louisette Howden     97       66        4    289   \n",
      "1           2        Sayre Harron     69        2       38     46   \n",
      "2           3    Francois Fennell     83       29       65    289   \n",
      "3           4       Irvin Comazzo     78       57       83     17   \n",
      "4           5  Archibaldo Kinahan     99       69       94     62   \n",
      "\n",
      "               Grade  \n",
      "0           solution  \n",
      "1           attitude  \n",
      "2  Re-contextualized  \n",
      "3            ability  \n",
      "4       Face to face  \n"
     ]
    }
   ],
   "source": [
    "print(df.head())"
   ]
  },
  {
   "cell_type": "code",
   "execution_count": 4,
   "id": "7e740f86-3ade-4f19-a250-1540959e3f45",
   "metadata": {},
   "outputs": [
    {
     "data": {
      "text/html": [
       "<div>\n",
       "<style scoped>\n",
       "    .dataframe tbody tr th:only-of-type {\n",
       "        vertical-align: middle;\n",
       "    }\n",
       "\n",
       "    .dataframe tbody tr th {\n",
       "        vertical-align: top;\n",
       "    }\n",
       "\n",
       "    .dataframe thead th {\n",
       "        text-align: right;\n",
       "    }\n",
       "</style>\n",
       "<table border=\"1\" class=\"dataframe\">\n",
       "  <thead>\n",
       "    <tr style=\"text-align: right;\">\n",
       "      <th></th>\n",
       "      <th>Student_ID</th>\n",
       "      <th>Name</th>\n",
       "      <th>Math</th>\n",
       "      <th>Science</th>\n",
       "      <th>English</th>\n",
       "      <th>Total</th>\n",
       "      <th>Grade</th>\n",
       "    </tr>\n",
       "  </thead>\n",
       "  <tbody>\n",
       "    <tr>\n",
       "      <th>0</th>\n",
       "      <td>False</td>\n",
       "      <td>False</td>\n",
       "      <td>False</td>\n",
       "      <td>False</td>\n",
       "      <td>False</td>\n",
       "      <td>False</td>\n",
       "      <td>False</td>\n",
       "    </tr>\n",
       "    <tr>\n",
       "      <th>1</th>\n",
       "      <td>False</td>\n",
       "      <td>False</td>\n",
       "      <td>False</td>\n",
       "      <td>False</td>\n",
       "      <td>False</td>\n",
       "      <td>False</td>\n",
       "      <td>False</td>\n",
       "    </tr>\n",
       "    <tr>\n",
       "      <th>2</th>\n",
       "      <td>False</td>\n",
       "      <td>False</td>\n",
       "      <td>False</td>\n",
       "      <td>False</td>\n",
       "      <td>False</td>\n",
       "      <td>False</td>\n",
       "      <td>False</td>\n",
       "    </tr>\n",
       "    <tr>\n",
       "      <th>3</th>\n",
       "      <td>False</td>\n",
       "      <td>False</td>\n",
       "      <td>False</td>\n",
       "      <td>False</td>\n",
       "      <td>False</td>\n",
       "      <td>False</td>\n",
       "      <td>False</td>\n",
       "    </tr>\n",
       "    <tr>\n",
       "      <th>4</th>\n",
       "      <td>False</td>\n",
       "      <td>False</td>\n",
       "      <td>False</td>\n",
       "      <td>False</td>\n",
       "      <td>False</td>\n",
       "      <td>False</td>\n",
       "      <td>False</td>\n",
       "    </tr>\n",
       "    <tr>\n",
       "      <th>...</th>\n",
       "      <td>...</td>\n",
       "      <td>...</td>\n",
       "      <td>...</td>\n",
       "      <td>...</td>\n",
       "      <td>...</td>\n",
       "      <td>...</td>\n",
       "      <td>...</td>\n",
       "    </tr>\n",
       "    <tr>\n",
       "      <th>94</th>\n",
       "      <td>False</td>\n",
       "      <td>False</td>\n",
       "      <td>False</td>\n",
       "      <td>False</td>\n",
       "      <td>False</td>\n",
       "      <td>False</td>\n",
       "      <td>False</td>\n",
       "    </tr>\n",
       "    <tr>\n",
       "      <th>95</th>\n",
       "      <td>False</td>\n",
       "      <td>False</td>\n",
       "      <td>False</td>\n",
       "      <td>False</td>\n",
       "      <td>False</td>\n",
       "      <td>False</td>\n",
       "      <td>False</td>\n",
       "    </tr>\n",
       "    <tr>\n",
       "      <th>96</th>\n",
       "      <td>False</td>\n",
       "      <td>False</td>\n",
       "      <td>False</td>\n",
       "      <td>False</td>\n",
       "      <td>False</td>\n",
       "      <td>False</td>\n",
       "      <td>False</td>\n",
       "    </tr>\n",
       "    <tr>\n",
       "      <th>97</th>\n",
       "      <td>False</td>\n",
       "      <td>False</td>\n",
       "      <td>False</td>\n",
       "      <td>False</td>\n",
       "      <td>False</td>\n",
       "      <td>False</td>\n",
       "      <td>False</td>\n",
       "    </tr>\n",
       "    <tr>\n",
       "      <th>98</th>\n",
       "      <td>False</td>\n",
       "      <td>False</td>\n",
       "      <td>False</td>\n",
       "      <td>False</td>\n",
       "      <td>False</td>\n",
       "      <td>False</td>\n",
       "      <td>False</td>\n",
       "    </tr>\n",
       "  </tbody>\n",
       "</table>\n",
       "<p>99 rows × 7 columns</p>\n",
       "</div>"
      ],
      "text/plain": [
       "    Student_ID   Name   Math  Science  English  Total  Grade\n",
       "0        False  False  False    False    False  False  False\n",
       "1        False  False  False    False    False  False  False\n",
       "2        False  False  False    False    False  False  False\n",
       "3        False  False  False    False    False  False  False\n",
       "4        False  False  False    False    False  False  False\n",
       "..         ...    ...    ...      ...      ...    ...    ...\n",
       "94       False  False  False    False    False  False  False\n",
       "95       False  False  False    False    False  False  False\n",
       "96       False  False  False    False    False  False  False\n",
       "97       False  False  False    False    False  False  False\n",
       "98       False  False  False    False    False  False  False\n",
       "\n",
       "[99 rows x 7 columns]"
      ]
     },
     "execution_count": 4,
     "metadata": {},
     "output_type": "execute_result"
    }
   ],
   "source": [
    " #to check if there is any NA values\n",
    "df.isna() \n"
   ]
  },
  {
   "cell_type": "code",
   "execution_count": 22,
   "id": "f9f39270-a75a-46f2-b165-384bcca9b741",
   "metadata": {},
   "outputs": [
    {
     "name": "stdout",
     "output_type": "stream",
     "text": [
      "<class 'pandas.core.frame.DataFrame'>\n",
      "RangeIndex: 99 entries, 0 to 98\n",
      "Data columns (total 7 columns):\n",
      " #   Column      Non-Null Count  Dtype \n",
      "---  ------      --------------  ----- \n",
      " 0   Student_ID  99 non-null     int64 \n",
      " 1   Name        99 non-null     object\n",
      " 2    Math       99 non-null     int64 \n",
      " 3   Science     99 non-null     int64 \n",
      " 4   English     99 non-null     int64 \n",
      " 5   Total       99 non-null     int64 \n",
      " 6   Grade       99 non-null     object\n",
      "dtypes: int64(5), object(2)\n",
      "memory usage: 5.5+ KB\n"
     ]
    }
   ],
   "source": [
    "#axis=1 , we are taking first row marks and calculating it\n",
    "\n",
    "df.info()\n",
    "\n"
   ]
  },
  {
   "cell_type": "code",
   "execution_count": 25,
   "id": "5df1f900-8590-4cab-9bc0-fbac033988b0",
   "metadata": {},
   "outputs": [],
   "source": [
    "df.rename(columns={\" Math\":\"Math\"},inplace=True)"
   ]
  },
  {
   "cell_type": "code",
   "execution_count": 26,
   "id": "17b10e34-9098-4aaf-bfe0-2117c80434b2",
   "metadata": {},
   "outputs": [
    {
     "name": "stdout",
     "output_type": "stream",
     "text": [
      "<class 'pandas.core.frame.DataFrame'>\n",
      "RangeIndex: 99 entries, 0 to 98\n",
      "Data columns (total 7 columns):\n",
      " #   Column      Non-Null Count  Dtype \n",
      "---  ------      --------------  ----- \n",
      " 0   Student_ID  99 non-null     int64 \n",
      " 1   Name        99 non-null     object\n",
      " 2   Math        99 non-null     int64 \n",
      " 3   Science     99 non-null     int64 \n",
      " 4   English     99 non-null     int64 \n",
      " 5   Total       99 non-null     int64 \n",
      " 6   Grade       99 non-null     object\n",
      "dtypes: int64(5), object(2)\n",
      "memory usage: 5.5+ KB\n"
     ]
    }
   ],
   "source": [
    "df.info()"
   ]
  },
  {
   "cell_type": "code",
   "execution_count": 28,
   "id": "61d7fbb6-8f19-47fa-a7fc-0428d6a191ba",
   "metadata": {},
   "outputs": [
    {
     "name": "stdout",
     "output_type": "stream",
     "text": [
      "                  Name  Math  Science  English  Total\n",
      "0     Louisette Howden    97       66        4    167\n",
      "1         Sayre Harron    69        2       38    109\n",
      "2     Francois Fennell    83       29       65    177\n",
      "3        Irvin Comazzo    78       57       83    218\n",
      "4   Archibaldo Kinahan    99       69       94    262\n",
      "..                 ...   ...      ...      ...    ...\n",
      "94        Candi Wankel    84       96       87    267\n",
      "95           Adah Hurl    95       89       13    197\n",
      "96      Lucio Godthaab    82        9       35    126\n",
      "97  Kingsley Walworche    88       37       92    217\n",
      "98       Athena Collum    72       12       13     97\n",
      "\n",
      "[99 rows x 5 columns]\n"
     ]
    }
   ],
   "source": [
    " df['Total'] = df[['Math', 'Science', 'English']].sum(axis=1)\n",
    "print(df[['Name', 'Math', 'Science', 'English', 'Total']])"
   ]
  },
  {
   "cell_type": "code",
   "execution_count": 29,
   "id": "9c27445f-47c6-4945-8eef-06ede8f68d68",
   "metadata": {},
   "outputs": [
    {
     "data": {
      "text/html": [
       "<div>\n",
       "<style scoped>\n",
       "    .dataframe tbody tr th:only-of-type {\n",
       "        vertical-align: middle;\n",
       "    }\n",
       "\n",
       "    .dataframe tbody tr th {\n",
       "        vertical-align: top;\n",
       "    }\n",
       "\n",
       "    .dataframe thead th {\n",
       "        text-align: right;\n",
       "    }\n",
       "</style>\n",
       "<table border=\"1\" class=\"dataframe\">\n",
       "  <thead>\n",
       "    <tr style=\"text-align: right;\">\n",
       "      <th></th>\n",
       "      <th>Name</th>\n",
       "      <th>Math</th>\n",
       "      <th>Science</th>\n",
       "      <th>English</th>\n",
       "      <th>Total</th>\n",
       "    </tr>\n",
       "  </thead>\n",
       "  <tbody>\n",
       "    <tr>\n",
       "      <th>0</th>\n",
       "      <td>Louisette Howden</td>\n",
       "      <td>97</td>\n",
       "      <td>66</td>\n",
       "      <td>4</td>\n",
       "      <td>167</td>\n",
       "    </tr>\n",
       "    <tr>\n",
       "      <th>1</th>\n",
       "      <td>Sayre Harron</td>\n",
       "      <td>69</td>\n",
       "      <td>2</td>\n",
       "      <td>38</td>\n",
       "      <td>109</td>\n",
       "    </tr>\n",
       "    <tr>\n",
       "      <th>2</th>\n",
       "      <td>Francois Fennell</td>\n",
       "      <td>83</td>\n",
       "      <td>29</td>\n",
       "      <td>65</td>\n",
       "      <td>177</td>\n",
       "    </tr>\n",
       "    <tr>\n",
       "      <th>3</th>\n",
       "      <td>Irvin Comazzo</td>\n",
       "      <td>78</td>\n",
       "      <td>57</td>\n",
       "      <td>83</td>\n",
       "      <td>218</td>\n",
       "    </tr>\n",
       "    <tr>\n",
       "      <th>4</th>\n",
       "      <td>Archibaldo Kinahan</td>\n",
       "      <td>99</td>\n",
       "      <td>69</td>\n",
       "      <td>94</td>\n",
       "      <td>262</td>\n",
       "    </tr>\n",
       "  </tbody>\n",
       "</table>\n",
       "</div>"
      ],
      "text/plain": [
       "                 Name  Math  Science  English  Total\n",
       "0    Louisette Howden    97       66        4    167\n",
       "1        Sayre Harron    69        2       38    109\n",
       "2    Francois Fennell    83       29       65    177\n",
       "3       Irvin Comazzo    78       57       83    218\n",
       "4  Archibaldo Kinahan    99       69       94    262"
      ]
     },
     "execution_count": 29,
     "metadata": {},
     "output_type": "execute_result"
    }
   ],
   "source": [
    "df[['Name', 'Math', 'Science', 'English', 'Total']].head() #just verify the total"
   ]
  },
  {
   "cell_type": "code",
   "execution_count": 32,
   "id": "031d7155-5bb5-4a41-a77d-70ea87a21f8c",
   "metadata": {},
   "outputs": [],
   "source": [
    "def assign_grade(total):\n",
    "    if total>=250:\n",
    "        return 'A'\n",
    "    elif total>=200:\n",
    "        return 'B'\n",
    "    elif total>=150:\n",
    "        return 'C'\n",
    "    else:\n",
    "        return 'D'     \n",
    "        "
   ]
  },
  {
   "cell_type": "code",
   "execution_count": 33,
   "id": "19ad3c53-1907-4779-993e-b5d9e05305e6",
   "metadata": {},
   "outputs": [],
   "source": [
    "df['Grade'] = df['Total'].apply(assign_grade)"
   ]
  },
  {
   "cell_type": "code",
   "execution_count": 34,
   "id": "07a7d2ab-afd3-4932-b9de-e9989beb556d",
   "metadata": {},
   "outputs": [
    {
     "data": {
      "text/html": [
       "<div>\n",
       "<style scoped>\n",
       "    .dataframe tbody tr th:only-of-type {\n",
       "        vertical-align: middle;\n",
       "    }\n",
       "\n",
       "    .dataframe tbody tr th {\n",
       "        vertical-align: top;\n",
       "    }\n",
       "\n",
       "    .dataframe thead th {\n",
       "        text-align: right;\n",
       "    }\n",
       "</style>\n",
       "<table border=\"1\" class=\"dataframe\">\n",
       "  <thead>\n",
       "    <tr style=\"text-align: right;\">\n",
       "      <th></th>\n",
       "      <th>Name</th>\n",
       "      <th>Total</th>\n",
       "      <th>Grade</th>\n",
       "    </tr>\n",
       "  </thead>\n",
       "  <tbody>\n",
       "    <tr>\n",
       "      <th>94</th>\n",
       "      <td>Candi Wankel</td>\n",
       "      <td>267</td>\n",
       "      <td>A</td>\n",
       "    </tr>\n",
       "    <tr>\n",
       "      <th>95</th>\n",
       "      <td>Adah Hurl</td>\n",
       "      <td>197</td>\n",
       "      <td>C</td>\n",
       "    </tr>\n",
       "    <tr>\n",
       "      <th>96</th>\n",
       "      <td>Lucio Godthaab</td>\n",
       "      <td>126</td>\n",
       "      <td>D</td>\n",
       "    </tr>\n",
       "    <tr>\n",
       "      <th>97</th>\n",
       "      <td>Kingsley Walworche</td>\n",
       "      <td>217</td>\n",
       "      <td>B</td>\n",
       "    </tr>\n",
       "    <tr>\n",
       "      <th>98</th>\n",
       "      <td>Athena Collum</td>\n",
       "      <td>97</td>\n",
       "      <td>D</td>\n",
       "    </tr>\n",
       "  </tbody>\n",
       "</table>\n",
       "</div>"
      ],
      "text/plain": [
       "                  Name  Total Grade\n",
       "94        Candi Wankel    267     A\n",
       "95           Adah Hurl    197     C\n",
       "96      Lucio Godthaab    126     D\n",
       "97  Kingsley Walworche    217     B\n",
       "98       Athena Collum     97     D"
      ]
     },
     "execution_count": 34,
     "metadata": {},
     "output_type": "execute_result"
    }
   ],
   "source": [
    "df[['Name', 'Total', 'Grade']].tail()"
   ]
  },
  {
   "cell_type": "code",
   "execution_count": 36,
   "id": "055dee77-187a-4240-a6c3-0c85b8fc3bdf",
   "metadata": {},
   "outputs": [
    {
     "name": "stdout",
     "output_type": "stream",
     "text": [
      "    Student_ID                Name  Math  Science  English  Total Grade\n",
      "4            5  Archibaldo Kinahan    99       69       94    262     A\n",
      "71          72     Marylee Mussett    98       74       83    255     A\n",
      "94          95        Candi Wankel    84       96       87    267     A\n"
     ]
    }
   ],
   "source": [
    "grade_a_students = df[df['Grade']=='A']\n",
    "print(grade_a_students)"
   ]
  },
  {
   "cell_type": "code",
   "execution_count": 37,
   "id": "0cfa79c4-d981-467b-86b2-1b5f43de7271",
   "metadata": {},
   "outputs": [
    {
     "name": "stdout",
     "output_type": "stream",
     "text": [
      "    Student_ID                Name  Math  Science  English  Total Grade\n",
      "4            5  Archibaldo Kinahan    99       69       94    262     A\n",
      "71          72     Marylee Mussett    98       74       83    255     A\n",
      "94          95        Candi Wankel    84       96       87    267     A\n"
     ]
    }
   ],
   "source": [
    "grade_a_students= df[df['Grade']=='A']\n",
    "print(grade_a_students)"
   ]
  },
  {
   "cell_type": "code",
   "execution_count": 38,
   "id": "e71aa734-e808-4d39-86d0-07c666f4bf39",
   "metadata": {},
   "outputs": [
    {
     "name": "stdout",
     "output_type": "stream",
     "text": [
      "No. of students secured grade B:  11\n"
     ]
    }
   ],
   "source": [
    "grade_b_students = df[df['Grade']=='B']\n",
    "print(\"No. of students secured grade B: \", len(grade_b_students))"
   ]
  },
  {
   "cell_type": "code",
   "execution_count": 41,
   "id": "2f81ff12-6f5b-4554-9612-3eacad69bada",
   "metadata": {},
   "outputs": [
    {
     "name": "stdout",
     "output_type": "stream",
     "text": [
      "Total no. of students failed:  48\n"
     ]
    }
   ],
   "source": [
    "print('Total no. of students failed: ', len(df[df['Grade']=='D']))"
   ]
  },
  {
   "cell_type": "code",
   "execution_count": 43,
   "id": "7ec68515-2bcc-44ec-afbb-b9e29e5289b1",
   "metadata": {},
   "outputs": [
    {
     "name": "stdout",
     "output_type": "stream",
     "text": [
      "100\n"
     ]
    }
   ],
   "source": [
    "math_max = max(df['Math'])\n",
    "print(math_max)"
   ]
  },
  {
   "cell_type": "code",
   "execution_count": 44,
   "id": "472319dc-62f2-455d-8d2e-74d1656aa82a",
   "metadata": {},
   "outputs": [
    {
     "name": "stdout",
     "output_type": "stream",
     "text": [
      "    Student_ID         Name  Math  Science  English  Total Grade\n",
      "24          25  Myles Tinan   100       94       26    220     B\n"
     ]
    }
   ],
   "source": [
    "print(df[df['Math']==math_max])"
   ]
  },
  {
   "cell_type": "code",
   "execution_count": 46,
   "id": "5bf46db7-a351-4e99-8118-d823a1a10473",
   "metadata": {},
   "outputs": [
    {
     "name": "stdout",
     "output_type": "stream",
     "text": [
      "File created successfully\n"
     ]
    }
   ],
   "source": [
    "df.to_csv('result.csv', index=False)\n",
    "print(\"File created successfully\")"
   ]
  },
  {
   "cell_type": "code",
   "execution_count": null,
   "id": "72464624-029b-459f-b667-621d2911bff7",
   "metadata": {},
   "outputs": [],
   "source": []
  }
 ],
 "metadata": {
  "kernelspec": {
   "display_name": "Python 3 (ipykernel)",
   "language": "python",
   "name": "python3"
  },
  "language_info": {
   "codemirror_mode": {
    "name": "ipython",
    "version": 3
   },
   "file_extension": ".py",
   "mimetype": "text/x-python",
   "name": "python",
   "nbconvert_exporter": "python",
   "pygments_lexer": "ipython3",
   "version": "3.13.2"
  },
  "widgets": {
   "application/vnd.jupyter.widget-state+json": {
    "state": {},
    "version_major": 2,
    "version_minor": 0
   }
  }
 },
 "nbformat": 4,
 "nbformat_minor": 5
}
