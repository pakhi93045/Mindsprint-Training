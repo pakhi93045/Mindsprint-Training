{
 "cells": [
  {
   "cell_type": "code",
   "execution_count": 1,
   "id": "90b60ef8-42e3-4593-b76d-a01754abd040",
   "metadata": {},
   "outputs": [],
   "source": [
    "import pandas as pd"
   ]
  },
  {
   "cell_type": "code",
   "execution_count": 2,
   "id": "8f10244c-e641-471b-8d1e-2aee5eecadb5",
   "metadata": {},
   "outputs": [],
   "source": [
    "df = pd.read_csv('sales_data.csv')"
   ]
  },
  {
   "cell_type": "code",
   "execution_count": 3,
   "id": "caea7cb7-6af5-4ac5-9d7d-1207c32c025f",
   "metadata": {},
   "outputs": [
    {
     "name": "stdout",
     "output_type": "stream",
     "text": [
      "   Order_ID                         Product   Category  Quantity  Price  \\\n",
      "0      1001                 Cabbage - Green    Samsung         3   5325   \n",
      "1      1002                  Onions - White      Nokia         1   4175   \n",
      "2      1003        Bread - Focaccia Quarter  Panasonic         3   5903   \n",
      "3      1004  Pasta - Fettuccine, Egg, Fresh       Oppo         3   8088   \n",
      "4      1005             Allspice - Jamaican    Samsung         4  10119   \n",
      "\n",
      "   Total_Amount        Date  \n",
      "0             0    8/4/2024  \n",
      "1             0   11/9/2024  \n",
      "2             0   5/12/2024  \n",
      "3             0   5/21/2024  \n",
      "4             0  12/13/2024  \n"
     ]
    }
   ],
   "source": [
    "print(df.head())"
   ]
  },
  {
   "cell_type": "code",
   "execution_count": 4,
   "id": "dbc6ab84-2812-47cc-b6f6-eecae7a8f7c8",
   "metadata": {},
   "outputs": [],
   "source": [
    "df.fillna(0, inplace=True)"
   ]
  },
  {
   "cell_type": "code",
   "execution_count": 6,
   "id": "6a434223-8e68-4b01-a6e9-c2966aa51295",
   "metadata": {},
   "outputs": [
    {
     "name": "stdout",
     "output_type": "stream",
     "text": [
      "   Order_ID                         Product   Category  Quantity  Price  \\\n",
      "0      1001                 Cabbage - Green    Samsung         3   5325   \n",
      "1      1002                  Onions - White      Nokia         1   4175   \n",
      "2      1003        Bread - Focaccia Quarter  Panasonic         3   5903   \n",
      "3      1004  Pasta - Fettuccine, Egg, Fresh       Oppo         3   8088   \n",
      "4      1005             Allspice - Jamaican    Samsung         4  10119   \n",
      "\n",
      "   Total_Amount        Date  \n",
      "0         15975    8/4/2024  \n",
      "1          4175   11/9/2024  \n",
      "2         17709   5/12/2024  \n",
      "3         24264   5/21/2024  \n",
      "4         40476  12/13/2024  \n"
     ]
    }
   ],
   "source": [
    "\n",
    "\n",
    "df['Total_Amount'] = df['Quantity'] * df['Price']\n",
    "\n",
    "print(df.head())  # Display the first few rows to verify\n"
   ]
  },
  {
   "cell_type": "code",
   "execution_count": 7,
   "id": "63ba1126-1837-4789-a9fe-3e2af65fac1d",
   "metadata": {},
   "outputs": [
    {
     "name": "stdout",
     "output_type": "stream",
     "text": [
      "The most sold product is: Aromat Spice / Seasoning\n"
     ]
    }
   ],
   "source": [
    "grouped_df = df.groupby('Product')['Quantity'].sum()\n",
    "\n",
    "most_sold_product = grouped_df.idxmax()\n",
    "\n",
    "print(f\"The most sold product is: {most_sold_product}\")"
   ]
  },
  {
   "cell_type": "code",
   "execution_count": 8,
   "id": "0999e156-9c52-4c8d-8ad2-6c050bd08904",
   "metadata": {},
   "outputs": [
    {
     "name": "stdout",
     "output_type": "stream",
     "text": [
      "Product\n",
      "Allspice - Jamaican               40476\n",
      "Aromat Spice / Seasoning          15545\n",
      "Beer - Upper Canada Lager          6308\n",
      "Bonito Flakes - Toku Katsuo       35995\n",
      "Bread - Focaccia Quarter          17709\n",
      "Cabbage - Green                   15975\n",
      "Chicken - Breast, 5 - 7 Oz         5765\n",
      "Cream - 18%                       27450\n",
      "Flour - Bran, Red                 29535\n",
      "Langers - Cranberry Cocktail      12627\n",
      "Longos - Chicken Curried           7540\n",
      "Nantuket Peach Orange             15670\n",
      "Oneshot Automatic Soap System      8057\n",
      "Onions - White                     4175\n",
      "Pasta - Fettuccine, Egg, Fresh    24264\n",
      "Pepper Squash                     10895\n",
      "Sauce - Ranch Dressing            53190\n",
      "Skirt - 29 Foot                   48235\n",
      "Soup - Campbells Chicken           3397\n",
      "Watercress                        31268\n",
      "Wine - Alsace Gewurztraminer      31750\n",
      "Wine - Red Oakridge Merlot        21576\n",
      "Wine - Red, Antinori Santa        20944\n",
      "Name: Total_Amount, dtype: int64\n"
     ]
    }
   ],
   "source": [
    "total_sales_per_product = df.groupby('Product')['Total_Amount'].sum()\n",
    "\n",
    "print(total_sales_per_product)"
   ]
  },
  {
   "cell_type": "code",
   "execution_count": 9,
   "id": "89f5d544-55e5-4c98-ac28-a9e058025dcf",
   "metadata": {},
   "outputs": [
    {
     "name": "stdout",
     "output_type": "stream",
     "text": [
      "    Order_ID                         Product   Category  Quantity  Price  \\\n",
      "0       1001                 Cabbage - Green    Samsung         3   5325   \n",
      "1       1002                  Onions - White      Nokia         1   4175   \n",
      "2       1003        Bread - Focaccia Quarter  Panasonic         3   5903   \n",
      "3       1004  Pasta - Fettuccine, Egg, Fresh       Oppo         3   8088   \n",
      "4       1005             Allspice - Jamaican    Samsung         4  10119   \n",
      "5       1006                   Pepper Squash     Realme         5   2179   \n",
      "6       1007        Soup - Campbells Chicken         LG         1   3397   \n",
      "7       1008                     Cream - 18%       Yezz         5   5490   \n",
      "8       1009                 Skirt - 29 Foot    Samsung         5   9647   \n",
      "9       1010      Chicken - Breast, 5 - 7 Oz   verykool         1   5765   \n",
      "10      1011       Beer - Upper Canada Lager    Maxwest         1   6308   \n",
      "11      1012        Longos - Chicken Curried         LG         2   3770   \n",
      "12      1013                      Watercress        HTC         4   7817   \n",
      "13      1014               Flour - Bran, Red     Lenovo         5   5907   \n",
      "14      1015           Nantuket Peach Orange   Motorola         2   7835   \n",
      "15      1016      Wine - Red Oakridge Merlot   Motorola         4   5394   \n",
      "16      1017    Wine - Alsace Gewurztraminer       Oppo         5   6350   \n",
      "17      1018    Langers - Cranberry Cocktail    Samsung         3   4209   \n",
      "18      1019        Aromat Spice / Seasoning      LeEco         5   3109   \n",
      "19      1020          Sauce - Ranch Dressing    alcatel         5  10638   \n",
      "20      1021     Bonito Flakes - Toku Katsuo   verykool         5   7199   \n",
      "21      1022   Oneshot Automatic Soap System    alcatel         1   8057   \n",
      "22      1023      Wine - Red, Antinori Santa    alcatel         4   5236   \n",
      "\n",
      "    Total_Amount        Date  \n",
      "0          15975    8/4/2024  \n",
      "1           4175   11/9/2024  \n",
      "2          17709   5/12/2024  \n",
      "3          24264   5/21/2024  \n",
      "4          40476  12/13/2024  \n",
      "5          10895   4/11/2024  \n",
      "6           3397    2/8/2025  \n",
      "7          27450   5/20/2024  \n",
      "8          48235  11/27/2024  \n",
      "9           5765   6/14/2024  \n",
      "10          6308   4/19/2024  \n",
      "11          7540   3/24/2024  \n",
      "12         31268  12/29/2024  \n",
      "13         29535   6/21/2024  \n",
      "14         15670   5/28/2024  \n",
      "15         21576   5/21/2024  \n",
      "16         31750  10/22/2024  \n",
      "17         12627   1/28/2025  \n",
      "18         15545    5/5/2024  \n",
      "19         53190    8/6/2024  \n",
      "20         35995  12/16/2024  \n",
      "21          8057   4/12/2024  \n",
      "22         20944   8/24/2024  \n"
     ]
    }
   ],
   "source": [
    "orders_above_500 = df[df['Total_Amount'] > 500]\n",
    "\n",
    "print(orders_above_500)"
   ]
  },
  {
   "cell_type": "code",
   "execution_count": 11,
   "id": "dd61926c-f051-4c87-9ef2-0f3d10957694",
   "metadata": {},
   "outputs": [
    {
     "name": "stdout",
     "output_type": "stream",
     "text": [
      "File created successfully\n"
     ]
    }
   ],
   "source": [
    "df.to_csv('res.csv', index=False)\n",
    "print(\"File created successfully\")"
   ]
  },
  {
   "cell_type": "code",
   "execution_count": null,
   "id": "f0a221e1-20a2-4b2d-8339-bf57dfdf3746",
   "metadata": {},
   "outputs": [],
   "source": []
  }
 ],
 "metadata": {
  "kernelspec": {
   "display_name": "Python 3 (ipykernel)",
   "language": "python",
   "name": "python3"
  },
  "language_info": {
   "codemirror_mode": {
    "name": "ipython",
    "version": 3
   },
   "file_extension": ".py",
   "mimetype": "text/x-python",
   "name": "python",
   "nbconvert_exporter": "python",
   "pygments_lexer": "ipython3",
   "version": "3.13.2"
  },
  "widgets": {
   "application/vnd.jupyter.widget-state+json": {
    "state": {},
    "version_major": 2,
    "version_minor": 0
   }
  }
 },
 "nbformat": 4,
 "nbformat_minor": 5
}
