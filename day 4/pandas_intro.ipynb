{
 "cells": [
  {
   "cell_type": "code",
   "execution_count": 3,
   "id": "170f5ca9-df96-4406-a363-b24de8720427",
   "metadata": {},
   "outputs": [
    {
     "name": "stdout",
     "output_type": "stream",
     "text": [
      "Version:  2.2.3\n"
     ]
    }
   ],
   "source": [
    "import pandas as pd\n",
    "print('Version: ',pd.__version__)"
   ]
  },
  {
   "cell_type": "markdown",
   "id": "b7058159-ba3b-437d-a3a5-064436073574",
   "metadata": {},
   "source": [
    "#with the help of pandas we can craete data frame and we can create series"
   ]
  },
  {
   "cell_type": "code",
   "execution_count": 8,
   "id": "cfed9a33-f623-408c-b525-aba67468585a",
   "metadata": {},
   "outputs": [
    {
     "name": "stdout",
     "output_type": "stream",
     "text": [
      "0    1\n",
      "1    3\n",
      "2    4\n",
      "3    5\n",
      "4    6\n",
      "5    8\n",
      "6    9\n",
      "dtype: int64\n",
      "Element at index 3: 5\n"
     ]
    }
   ],
   "source": [
    "list=[1,3,4,5,6,8,9]\n",
    "myseries = pd.Series(list)\n",
    "print(myseries)\n",
    "#it is showing index no along with data\n",
    "#pandas doesn't allow to directly work with list so we need to load it in series\n",
    "\n",
    "print(\"Element at index 3:\", myseries[3])"
   ]
  },
  {
   "cell_type": "code",
   "execution_count": 14,
   "id": "53af25d3-e4ae-44bd-97da-5d5cd44c73ff",
   "metadata": {},
   "outputs": [
    {
     "name": "stdout",
     "output_type": "stream",
     "text": [
      "a    1\n",
      "b    7\n",
      "c    4\n",
      "dtype: int64\n",
      "Element at index b: 7\n"
     ]
    }
   ],
   "source": [
    "a=[1,7,4]\n",
    "myvar = pd.Series(a, index=[\"a\",\"b\",\"c\"])\n",
    "print(myvar)\n",
    "print(\"Element at index b:\",myvar[\"b\"])"
   ]
  },
  {
   "cell_type": "code",
   "execution_count": 18,
   "id": "a1279dd1-b3e9-4d1d-a71e-d14e2db0391b",
   "metadata": {},
   "outputs": [
    {
     "name": "stdout",
     "output_type": "stream",
     "text": [
      "id                            1\n",
      "name               Pragya Pakhi\n",
      "email      pragya5364@gmail.com\n",
      "address                Banglore\n",
      "salary              48974897485\n",
      "dtype: object\n",
      "id:  1\n",
      "name:  Pragya Pakhi\n"
     ]
    }
   ],
   "source": [
    "employee = {\n",
    "    \"id\":1,\n",
    "    \"name\":\"Pragya Pakhi\",\n",
    "    \"email\":\"pragya5364@gmail.com\",\n",
    "    \"address\":\"Banglore\",\n",
    "    \"salary\":48974897485\n",
    "}\n",
    "data = pd.Series(employee)\n",
    "print(data)\n",
    "print(\"id: \",data[\"id\"]) #label create automatically based on key\n",
    "print(\"name: \", data[\"name\"])\n"
   ]
  },
  {
   "cell_type": "code",
   "execution_count": 30,
   "id": "534a1c6b-2544-4dc3-8a34-574ba2626756",
   "metadata": {},
   "outputs": [
    {
     "name": "stdout",
     "output_type": "stream",
     "text": [
      "   id name\n",
      "0  11    A\n",
      "1  32    B\n",
      "2  43    C\n",
      "3  64    D\n",
      "----------------------------------------\n",
      "first row: \n",
      "id      11\n",
      "name     A\n",
      "Name: 0, dtype: object\n",
      "----------------------------------------\n",
      "First two rows: \n",
      "   id name\n",
      "0  11    A\n",
      "1  32    B\n",
      "----------------------------------------\n",
      "element at 0th row and 1st column: \n",
      "A\n"
     ]
    }
   ],
   "source": [
    "sample={\n",
    "    \"id\":[11,32,43,64],\n",
    "    \"name\":[\"A\",\"B\",\"C\",\"D\"]\n",
    "}\n",
    "df = pd.DataFrame(sample)\n",
    "print(df)\n",
    "\n",
    "print('----------------------------------------')\n",
    "print(\"first row: \")\n",
    "print(df.loc[0])\n",
    "\n",
    "print('----------------------------------------')\n",
    "#get first two rows\n",
    "print(\"First two rows: \")\n",
    "print(df.loc[[0,1]])\n",
    "\n",
    "print('----------------------------------------')\n",
    "print(\"element at 0th row and 1st column: \")\n",
    "print(df.iloc[0,1]) # index loc i.e. iloc to get element at 0th row and 1st column"
   ]
  },
  {
   "cell_type": "code",
   "execution_count": 45,
   "id": "b4d5d8ca-a8b8-4b6f-9244-2b0030693ddd",
   "metadata": {},
   "outputs": [
    {
     "name": "stdout",
     "output_type": "stream",
     "text": [
      "        name  age\n",
      "user1   alex   23\n",
      "user2  catty   24\n",
      "user3    bob   23\n",
      "----------------------------------------\n",
      "name    bob\n",
      "age      23\n",
      "Name: user3, dtype: object\n"
     ]
    }
   ],
   "source": [
    "user_data = {\n",
    "    \"name\":[\"alex\", \"catty\", \"bob\"],\n",
    "    \"age\": [23,24,23]\n",
    "}\n",
    "\n",
    "df1 = pd.DataFrame(user_data, index=[\"user1\", \"user2\", \"user3\"])\n",
    "print(df1)\n",
    "print('----------------------------------------')\n",
    "print(df1.loc[\"user3\"])\n"
   ]
  },
  {
   "cell_type": "code",
   "execution_count": 46,
   "id": "7f43285f-c86b-4803-ae5c-17b7f82926c9",
   "metadata": {},
   "outputs": [
    {
     "name": "stdout",
     "output_type": "stream",
     "text": [
      "   salary            email   name  age\n",
      "0    3434   alex@gmail.com   alex   23\n",
      "1    5653  catty@gmail.com  catty   24\n",
      "2    9864    bob@gmail.com    bob   23\n"
     ]
    }
   ],
   "source": [
    "user_data = {\n",
    "    \"name\":[\"alex\", \"catty\", \"bob\"],\n",
    "    \"age\": [23,24,23],\n",
    "    \"salary\" : [3434, 5653, 9864],\n",
    "    \"email\": [\"alex@gmail.com\", \"catty@gmail.com\", \"bob@gmail.com\"]\n",
    "}\n",
    "\n",
    "#we can change the order by using columns\n",
    "df1 = pd.DataFrame(user_data, columns=[\"salary\", \"email\", \"name\", \"age\"])\n",
    "print(df1)\n"
   ]
  },
  {
   "cell_type": "code",
   "execution_count": 47,
   "id": "38e9a3c9-2e12-434b-b5cc-032123a7ccf5",
   "metadata": {},
   "outputs": [
    {
     "name": "stdout",
     "output_type": "stream",
     "text": [
      "      Name  Age         City\n",
      "0    Alice   25     New York\n",
      "1      Bob   30  Los Angeles\n",
      "2  cahrlie   35      Chicago\n",
      "3    David   40      Houston\n"
     ]
    }
   ],
   "source": [
    "#list inside list\n",
    "data = [\n",
    "    [\"Alice\", 25, \"New York\"],\n",
    "    [\"Bob\", 30, \"Los Angeles\"],\n",
    "    [\"cahrlie\", 35, \"Chicago\"],\n",
    "    [\"David\", 40, \"Houston\"]\n",
    "]\n",
    "\n",
    "df = pd.DataFrame(data, columns=[\"Name\", \"Age\", \"City\"])\n",
    "print(df)"
   ]
  },
  {
   "cell_type": "code",
   "execution_count": 50,
   "id": "c3f1a2ca-fcf5-434f-9ce0-ef456152d6d8",
   "metadata": {},
   "outputs": [
    {
     "name": "stdout",
     "output_type": "stream",
     "text": [
      "     id                name                       email       gender  grade\n",
      "0     1      Anderson Klink           aklink0@prlog.org         Male    9.2\n",
      "1     2      Melisande Done            mdone1@chron.com       Female    6.8\n",
      "2     3     Babbie Dilworth       bdilworth2@joomla.org       Female    1.9\n",
      "3     4       Bengt Tennock         btennock3@hc360.com         Male    5.8\n",
      "4     5     Annamarie Sloey      asloey4@bravesites.com       Female    7.2\n",
      "..  ...                 ...                         ...          ...    ...\n",
      "95   96  Vittoria Grosvener      vgrosvener2n@prlog.org  Genderfluid    6.6\n",
      "96   97        Fanya Tigner     ftigner2o@webeden.co.uk       Female    1.9\n",
      "97   98    Mallorie Caldaro  mcaldaro2p@telegraph.co.uk       Female    3.7\n",
      "98   99    Ilaire Fairholme        ifairholme2q@home.pl  Genderqueer    5.8\n",
      "99  100     Dwain Beazleigh     dbeazleigh2r@eepurl.com         Male    3.6\n",
      "\n",
      "[100 rows x 5 columns]\n"
     ]
    }
   ],
   "source": [
    "sd = pd.read_csv('MOCK_DATA.csv')\n",
    "print(sd) #printing entire dataframe"
   ]
  },
  {
   "cell_type": "code",
   "execution_count": 55,
   "id": "e5ab3c6c-0af5-4f4f-8cca-15496e4a0d98",
   "metadata": {},
   "outputs": [
    {
     "data": {
      "text/html": [
       "<div>\n",
       "<style scoped>\n",
       "    .dataframe tbody tr th:only-of-type {\n",
       "        vertical-align: middle;\n",
       "    }\n",
       "\n",
       "    .dataframe tbody tr th {\n",
       "        vertical-align: top;\n",
       "    }\n",
       "\n",
       "    .dataframe thead th {\n",
       "        text-align: right;\n",
       "    }\n",
       "</style>\n",
       "<table border=\"1\" class=\"dataframe\">\n",
       "  <thead>\n",
       "    <tr style=\"text-align: right;\">\n",
       "      <th></th>\n",
       "      <th>id</th>\n",
       "      <th>name</th>\n",
       "      <th>email</th>\n",
       "      <th>gender</th>\n",
       "      <th>grade</th>\n",
       "    </tr>\n",
       "  </thead>\n",
       "  <tbody>\n",
       "    <tr>\n",
       "      <th>0</th>\n",
       "      <td>1</td>\n",
       "      <td>Anderson Klink</td>\n",
       "      <td>aklink0@prlog.org</td>\n",
       "      <td>Male</td>\n",
       "      <td>9.2</td>\n",
       "    </tr>\n",
       "    <tr>\n",
       "      <th>1</th>\n",
       "      <td>2</td>\n",
       "      <td>Melisande Done</td>\n",
       "      <td>mdone1@chron.com</td>\n",
       "      <td>Female</td>\n",
       "      <td>6.8</td>\n",
       "    </tr>\n",
       "    <tr>\n",
       "      <th>2</th>\n",
       "      <td>3</td>\n",
       "      <td>Babbie Dilworth</td>\n",
       "      <td>bdilworth2@joomla.org</td>\n",
       "      <td>Female</td>\n",
       "      <td>1.9</td>\n",
       "    </tr>\n",
       "    <tr>\n",
       "      <th>3</th>\n",
       "      <td>4</td>\n",
       "      <td>Bengt Tennock</td>\n",
       "      <td>btennock3@hc360.com</td>\n",
       "      <td>Male</td>\n",
       "      <td>5.8</td>\n",
       "    </tr>\n",
       "    <tr>\n",
       "      <th>4</th>\n",
       "      <td>5</td>\n",
       "      <td>Annamarie Sloey</td>\n",
       "      <td>asloey4@bravesites.com</td>\n",
       "      <td>Female</td>\n",
       "      <td>7.2</td>\n",
       "    </tr>\n",
       "  </tbody>\n",
       "</table>\n",
       "</div>"
      ],
      "text/plain": [
       "   id             name                   email  gender  grade\n",
       "0   1   Anderson Klink       aklink0@prlog.org    Male    9.2\n",
       "1   2   Melisande Done        mdone1@chron.com  Female    6.8\n",
       "2   3  Babbie Dilworth   bdilworth2@joomla.org  Female    1.9\n",
       "3   4    Bengt Tennock     btennock3@hc360.com    Male    5.8\n",
       "4   5  Annamarie Sloey  asloey4@bravesites.com  Female    7.2"
      ]
     },
     "execution_count": 55,
     "metadata": {},
     "output_type": "execute_result"
    }
   ],
   "source": [
    "sd.head()"
   ]
  },
  {
   "cell_type": "code",
   "execution_count": 56,
   "id": "52a38c93-f109-42c0-9070-59c6ed5939ae",
   "metadata": {},
   "outputs": [
    {
     "name": "stdout",
     "output_type": "stream",
     "text": [
      "   id             name                   email  gender  grade\n",
      "0   1   Anderson Klink       aklink0@prlog.org    Male    9.2\n",
      "1   2   Melisande Done        mdone1@chron.com  Female    6.8\n",
      "2   3  Babbie Dilworth   bdilworth2@joomla.org  Female    1.9\n",
      "3   4    Bengt Tennock     btennock3@hc360.com    Male    5.8\n",
      "4   5  Annamarie Sloey  asloey4@bravesites.com  Female    7.2\n"
     ]
    }
   ],
   "source": [
    "print(sd.head())"
   ]
  },
  {
   "cell_type": "code",
   "execution_count": 58,
   "id": "67451719-37a3-41ad-a855-989cccf0ff58",
   "metadata": {},
   "outputs": [
    {
     "name": "stdout",
     "output_type": "stream",
     "text": [
      "     id                   name                              email       gender  grade\n",
      "0     1         Anderson Klink                  aklink0@prlog.org         Male    9.2\n",
      "1     2         Melisande Done                   mdone1@chron.com       Female    6.8\n",
      "2     3        Babbie Dilworth              bdilworth2@joomla.org       Female    1.9\n",
      "3     4          Bengt Tennock                btennock3@hc360.com         Male    5.8\n",
      "4     5        Annamarie Sloey             asloey4@bravesites.com       Female    7.2\n",
      "5     6     Veronique Saladino         vsaladino5@arstechnica.com       Female    1.2\n",
      "6     7        Raychel Cattach            rcattach6@posterous.com      Agender    4.6\n",
      "7     8               Vin Tume                   vtume7@github.io         Male    4.8\n",
      "8     9           Tore Seleway               tseleway8@unicef.org         Male    2.8\n",
      "9    10           Opal Edgeler             oedgeler9@springer.com       Female    9.9\n",
      "10   11       Timothea Farriar           tfarriara@macromedia.com       Female    1.2\n",
      "11   12          Torey Fiddian                  tfiddianb@psu.edu       Female    8.7\n",
      "12   13       Thoma Guitonneau             tguitonneauc@slate.com         Male    9.3\n",
      "13   14        Loretta Thrower                lthrowerd@naver.com       Female    9.0\n",
      "14   15            Cori Vasler             cvaslere@webeden.co.uk         Male    8.7\n",
      "15   16            Meryl Byrde              mbyrdef@moonfruit.com       Female    8.7\n",
      "16   17         Goddart Guerin                   gguering@cmu.edu         Male    1.1\n",
      "17   18          Warner Peeter             wpeeterh@quantcast.com         Male    8.5\n",
      "18   19      Vasily Cutteridge               vcutteridgei@mapy.cz         Male    3.1\n",
      "19   20             Myrah Balm                   mbalmj@hexun.com       Female    1.4\n",
      "20   21          Juliann Jerke           jjerkek@businesswire.com       Female    7.2\n",
      "21   22     Cristabel Skeermer        cskeermerl@wunderground.com       Female    7.1\n",
      "22   23            Amalia Izen                 aizenm@yahoo.co.jp     Bigender    1.5\n",
      "23   24         Sharleen Doale             sdoalen@prnewswire.com       Female    9.6\n",
      "24   25    Christos Losseljong                closseljongo@ed.gov         Male    1.8\n",
      "25   26             Hana Liver                 hliverp@forbes.com       Female    2.2\n",
      "26   27         Tonye Scottini                tscottiniq@narod.ru       Female    3.4\n",
      "27   28      Geraldine Peacock                gpeacockr@cisco.com       Female    7.3\n",
      "28   29         Baxter Sporrij           bsporrijs@soundcloud.com         Male    3.6\n",
      "29   30         Shari Jelleman             sjellemant@walmart.com       Female    2.3\n",
      "30   31            Conny Awdry            cawdryu@fastcompany.com         Male    9.2\n",
      "31   32        Chloette Cotter                   ccotterv@mtv.com       Female    3.1\n",
      "32   33      Wayne O'Hdirscoll          wohdirscollw@springer.com         Male    8.7\n",
      "33   34       Cornelia Tackett             ctackettx@vkontakte.ru       Female    9.4\n",
      "34   35        Eulalie Phippin                ephippiny@bbc.co.uk   Polygender    8.4\n",
      "35   36         Yetty Llywarch             yllywarchz@storify.com       Female    9.4\n",
      "36   37         Dimitry Gounel         dgounel10@odnoklassniki.ru         Male    2.7\n",
      "37   38          Cleve Kennady  ckennady11@nationalgeographic.com         Male    6.0\n",
      "38   39        Cullie Mardling              cmardling12@google.nl         Male    8.3\n",
      "39   40            Dav Khotler      dkhotler13@huffingtonpost.com         Male    4.1\n",
      "40   41        Davin Grisedale             dgrisedale14@apple.com         Male    2.4\n",
      "41   42        Allan Gregersen           agregersen15@weather.com         Male    8.2\n",
      "42   43       Karlens Ferrotti         kferrotti16@cloudflare.com         Male    7.0\n",
      "43   44          Raphaela Spat                 rspat17@netlog.com       Female    7.3\n",
      "44   45       Finley Bartholin           fbartholin18@tinyurl.com         Male    4.7\n",
      "45   46          Prince Pagden                 ppagden19@jugem.jp         Male    6.0\n",
      "46   47        Jarrad Cabrales               jcabrales1a@bing.com         Male    6.8\n",
      "47   48           Tucker Hedge                thedge1b@cpanel.net         Male    6.1\n",
      "48   49        Humberto Weaben          hweaben1c@cyberchimps.com         Male    1.3\n",
      "49   50       Gennifer Turnock             gturnock1d@tinyurl.com       Female    6.6\n",
      "50   51         Bran Aloshikin            baloshikin1e@cdbaby.com         Male    7.8\n",
      "51   52         Tobit Bernette             tbernette1f@hao123.com         Male    9.1\n",
      "52   53         Tracy Ashcroft             tashcroft1g@zimbio.com  Genderqueer    1.8\n",
      "53   54        Freddi Keoghane               fkeoghane1h@noaa.gov       Female    1.2\n",
      "54   55        Nilson Brisbane              nbrisbane1i@yahoo.com         Male    1.2\n",
      "55   56       Ianthe Kneaphsey           ikneaphsey1j@youtube.com       Female    2.2\n",
      "56   57        Bryce Mallebone           bmallebone1k@reuters.com         Male    8.4\n",
      "57   58              Ode Jeste                ojeste1l@rambler.ru         Male    8.4\n",
      "58   59           Debbi Edmead               dedmead1m@abc.net.au       Female    4.1\n",
      "59   60            Thea Gethyn                   tgethyn1n@pen.io       Female    9.7\n",
      "60   61        Rosaline Piniur                    rpiniur1o@is.gd       Female    6.4\n",
      "61   62          Lyell Worboys         lworboys1p@hugedomains.com         Male    2.4\n",
      "62   63         Camile Binnell          cbinnell1q@technorati.com       Female    7.1\n",
      "63   64            Itch Aynold                 iaynold1r@ucsd.edu         Male    3.0\n",
      "64   65          Read St. Paul                      rst1s@ibm.com         Male    8.6\n",
      "65   66          Warde Kirmond                wkirmond1t@java.com         Male    9.1\n",
      "66   67  Hortense Degli Antoni                  hdegli1u@narod.ru       Female    1.8\n",
      "67   68        Isiahi Clampett                 iclampett1v@ft.com         Male    8.1\n",
      "68   69        Carlie Huxtable                chuxtable1w@mlb.com         Male    4.7\n",
      "69   70          Mellie Gerler               mgerler1x@nature.com       Female   10.0\n",
      "70   71        Eadmund Orneles         eorneles1y@list-manage.com         Male    6.3\n",
      "71   72       Gisella McKellen             gmckellen1z@flickr.com       Female    2.7\n",
      "72   73           Kent Medwell                 kmedwell20@soup.io         Male    9.7\n",
      "73   74         Odella Duckels               oduckels21@google.cn       Female    1.8\n",
      "74   75       Carlie Ranscombe         cranscombe22@tuttocitta.it       Female    9.1\n",
      "75   76      Robinia Braunroth               rbraunroth23@msn.com       Female    9.3\n",
      "76   77         Gianina Reolfo        greolfo24@elegantthemes.com       Female    3.3\n",
      "77   78      Claretta Veltmann                cveltmann25@nps.gov       Female    7.0\n",
      "78   79          Vikki Brunner            vbrunner26@berkeley.edu       Female    1.0\n",
      "79   80       Nehemiah Ludmann                  nludmann27@pen.io         Male    7.2\n",
      "80   81            Ardra Venes                 avenes28@chron.com       Female    1.8\n",
      "81   82          Hartley Bowes                 hbowes29@google.nl         Male    1.3\n",
      "82   83       Jereme Barenskie              jbarenskie2a@blog.com  Genderfluid    6.1\n",
      "83   84         Cletus Coxhead               ccoxhead2b@upenn.edu         Male    8.3\n",
      "84   85           Tallie Males           tmales2c@istockphoto.com         Male    6.7\n",
      "85   86             Daile Rutt                    drutt2d@cmu.edu       Female    6.8\n",
      "86   87          Romola Petera                   rpetera2e@va.gov   Polygender    8.0\n",
      "87   88         Eugine Dumingo               edumingo2f@amazon.de       Female    2.0\n",
      "88   89        Catlin Sieghard                csieghard2g@mac.com       Female    8.5\n",
      "89   90          Starr Ivashin       sivashin2h@printfriendly.com  Genderfluid    6.3\n",
      "90   91          Poul Ruppertz              pruppertz2i@hc360.com         Male    5.6\n",
      "91   92       Jasmine Stephens        jstephens2j@istockphoto.com       Female    3.8\n",
      "92   93        Theda Mulvihill           tmulvihill2k@shop-pro.jp      Agender    9.2\n",
      "93   94          Jeane Crummey                jcrummey2l@live.com       Female    9.9\n",
      "94   95            Ody Henriet                 ohenriet2m@icio.us         Male    3.0\n",
      "95   96     Vittoria Grosvener             vgrosvener2n@prlog.org  Genderfluid    6.6\n",
      "96   97           Fanya Tigner            ftigner2o@webeden.co.uk       Female    1.9\n",
      "97   98       Mallorie Caldaro         mcaldaro2p@telegraph.co.uk       Female    3.7\n",
      "98   99       Ilaire Fairholme               ifairholme2q@home.pl  Genderqueer    5.8\n",
      "99  100        Dwain Beazleigh            dbeazleigh2r@eepurl.com         Male    3.6\n"
     ]
    }
   ],
   "source": [
    "#see all data\n",
    "print(sd.to_string())"
   ]
  },
  {
   "cell_type": "code",
   "execution_count": 59,
   "id": "c6e1e363-fc89-483b-ba4a-03f013dccc4c",
   "metadata": {},
   "outputs": [
    {
     "name": "stdout",
     "output_type": "stream",
     "text": [
      "   id             name                  email  gender  grade\n",
      "0   1   Anderson Klink      aklink0@prlog.org    Male    9.2\n",
      "1   2   Melisande Done       mdone1@chron.com  Female    6.8\n",
      "2   3  Babbie Dilworth  bdilworth2@joomla.org  Female    1.9\n"
     ]
    }
   ],
   "source": [
    "print(sd.head(3))"
   ]
  },
  {
   "cell_type": "code",
   "execution_count": 61,
   "id": "9f158356-a3b4-479f-a49f-0c6f4e6ca34f",
   "metadata": {},
   "outputs": [
    {
     "name": "stdout",
     "output_type": "stream",
     "text": [
      "     id              name                    email       gender  grade\n",
      "98   99  Ilaire Fairholme     ifairholme2q@home.pl  Genderqueer    5.8\n",
      "99  100   Dwain Beazleigh  dbeazleigh2r@eepurl.com         Male    3.6\n"
     ]
    }
   ],
   "source": [
    "print(sd.tail(2))"
   ]
  },
  {
   "cell_type": "code",
   "execution_count": 66,
   "id": "eb773a8b-51c2-43d5-92c9-f421e4f74786",
   "metadata": {},
   "outputs": [
    {
     "name": "stdout",
     "output_type": "stream",
     "text": [
      "(100, 5)\n"
     ]
    }
   ],
   "source": [
    "print(sd.shape)"
   ]
  },
  {
   "cell_type": "code",
   "execution_count": 68,
   "id": "48630fd7-36fd-439f-956d-c5b66f4fa112",
   "metadata": {},
   "outputs": [
    {
     "name": "stdout",
     "output_type": "stream",
     "text": [
      "<class 'pandas.core.frame.DataFrame'>\n",
      "RangeIndex: 100 entries, 0 to 99\n",
      "Data columns (total 5 columns):\n",
      " #   Column  Non-Null Count  Dtype  \n",
      "---  ------  --------------  -----  \n",
      " 0   id      100 non-null    int64  \n",
      " 1   name    100 non-null    object \n",
      " 2   email   100 non-null    object \n",
      " 3   gender  100 non-null    object \n",
      " 4   grade   100 non-null    float64\n",
      "dtypes: float64(1), int64(1), object(3)\n",
      "memory usage: 4.0+ KB\n",
      "None\n"
     ]
    }
   ],
   "source": [
    "#to get the summary of entire dataframe\n",
    "print(sd.info())"
   ]
  },
  {
   "cell_type": "code",
   "execution_count": 73,
   "id": "720a47eb-0247-4a92-b906-1825a24c7676",
   "metadata": {},
   "outputs": [
    {
     "data": {
      "text/html": [
       "<div>\n",
       "<style scoped>\n",
       "    .dataframe tbody tr th:only-of-type {\n",
       "        vertical-align: middle;\n",
       "    }\n",
       "\n",
       "    .dataframe tbody tr th {\n",
       "        vertical-align: top;\n",
       "    }\n",
       "\n",
       "    .dataframe thead th {\n",
       "        text-align: right;\n",
       "    }\n",
       "</style>\n",
       "<table border=\"1\" class=\"dataframe\">\n",
       "  <thead>\n",
       "    <tr style=\"text-align: right;\">\n",
       "      <th></th>\n",
       "      <th>id</th>\n",
       "      <th>grade</th>\n",
       "    </tr>\n",
       "  </thead>\n",
       "  <tbody>\n",
       "    <tr>\n",
       "      <th>count</th>\n",
       "      <td>100.000000</td>\n",
       "      <td>100.000000</td>\n",
       "    </tr>\n",
       "    <tr>\n",
       "      <th>mean</th>\n",
       "      <td>50.500000</td>\n",
       "      <td>5.670000</td>\n",
       "    </tr>\n",
       "    <tr>\n",
       "      <th>std</th>\n",
       "      <td>29.011492</td>\n",
       "      <td>2.925938</td>\n",
       "    </tr>\n",
       "    <tr>\n",
       "      <th>min</th>\n",
       "      <td>1.000000</td>\n",
       "      <td>1.000000</td>\n",
       "    </tr>\n",
       "    <tr>\n",
       "      <th>25%</th>\n",
       "      <td>25.750000</td>\n",
       "      <td>2.775000</td>\n",
       "    </tr>\n",
       "    <tr>\n",
       "      <th>50%</th>\n",
       "      <td>50.500000</td>\n",
       "      <td>6.300000</td>\n",
       "    </tr>\n",
       "    <tr>\n",
       "      <th>75%</th>\n",
       "      <td>75.250000</td>\n",
       "      <td>8.400000</td>\n",
       "    </tr>\n",
       "    <tr>\n",
       "      <th>max</th>\n",
       "      <td>100.000000</td>\n",
       "      <td>10.000000</td>\n",
       "    </tr>\n",
       "  </tbody>\n",
       "</table>\n",
       "</div>"
      ],
      "text/plain": [
       "               id       grade\n",
       "count  100.000000  100.000000\n",
       "mean    50.500000    5.670000\n",
       "std     29.011492    2.925938\n",
       "min      1.000000    1.000000\n",
       "25%     25.750000    2.775000\n",
       "50%     50.500000    6.300000\n",
       "75%     75.250000    8.400000\n",
       "max    100.000000   10.000000"
      ]
     },
     "execution_count": 73,
     "metadata": {},
     "output_type": "execute_result"
    }
   ],
   "source": [
    "sd.describe()\n",
    "\n",
    "\n",
    "#if we print it using print fn it will give it in the form of string\n"
   ]
  },
  {
   "cell_type": "code",
   "execution_count": 75,
   "id": "4a58dd35-af44-4546-adae-21f5a14f914c",
   "metadata": {},
   "outputs": [
    {
     "name": "stdout",
     "output_type": "stream",
     "text": [
      "0         Anderson Klink\n",
      "1         Melisande Done\n",
      "2        Babbie Dilworth\n",
      "3          Bengt Tennock\n",
      "4        Annamarie Sloey\n",
      "             ...        \n",
      "95    Vittoria Grosvener\n",
      "96          Fanya Tigner\n",
      "97      Mallorie Caldaro\n",
      "98      Ilaire Fairholme\n",
      "99       Dwain Beazleigh\n",
      "Name: name, Length: 100, dtype: object\n"
     ]
    }
   ],
   "source": [
    "print() #all the names"
   ]
  },
  {
   "cell_type": "code",
   "execution_count": 78,
   "id": "cf84d405-3d4c-42cd-b244-5e661e2317c1",
   "metadata": {},
   "outputs": [
    {
     "data": {
      "text/html": [
       "<div>\n",
       "<style scoped>\n",
       "    .dataframe tbody tr th:only-of-type {\n",
       "        vertical-align: middle;\n",
       "    }\n",
       "\n",
       "    .dataframe tbody tr th {\n",
       "        vertical-align: top;\n",
       "    }\n",
       "\n",
       "    .dataframe thead th {\n",
       "        text-align: right;\n",
       "    }\n",
       "</style>\n",
       "<table border=\"1\" class=\"dataframe\">\n",
       "  <thead>\n",
       "    <tr style=\"text-align: right;\">\n",
       "      <th></th>\n",
       "      <th>id</th>\n",
       "      <th>name</th>\n",
       "      <th>grade</th>\n",
       "    </tr>\n",
       "  </thead>\n",
       "  <tbody>\n",
       "    <tr>\n",
       "      <th>0</th>\n",
       "      <td>1</td>\n",
       "      <td>Anderson Klink</td>\n",
       "      <td>9.2</td>\n",
       "    </tr>\n",
       "    <tr>\n",
       "      <th>1</th>\n",
       "      <td>2</td>\n",
       "      <td>Melisande Done</td>\n",
       "      <td>6.8</td>\n",
       "    </tr>\n",
       "    <tr>\n",
       "      <th>2</th>\n",
       "      <td>3</td>\n",
       "      <td>Babbie Dilworth</td>\n",
       "      <td>1.9</td>\n",
       "    </tr>\n",
       "    <tr>\n",
       "      <th>3</th>\n",
       "      <td>4</td>\n",
       "      <td>Bengt Tennock</td>\n",
       "      <td>5.8</td>\n",
       "    </tr>\n",
       "    <tr>\n",
       "      <th>4</th>\n",
       "      <td>5</td>\n",
       "      <td>Annamarie Sloey</td>\n",
       "      <td>7.2</td>\n",
       "    </tr>\n",
       "  </tbody>\n",
       "</table>\n",
       "</div>"
      ],
      "text/plain": [
       "   id             name  grade\n",
       "0   1   Anderson Klink    9.2\n",
       "1   2   Melisande Done    6.8\n",
       "2   3  Babbie Dilworth    1.9\n",
       "3   4    Bengt Tennock    5.8\n",
       "4   5  Annamarie Sloey    7.2"
      ]
     },
     "execution_count": 78,
     "metadata": {},
     "output_type": "execute_result"
    }
   ],
   "source": [
    "sd[['id', 'name', 'grade']].head() #first 5 rows with only id, name and grade"
   ]
  },
  {
   "cell_type": "code",
   "execution_count": 79,
   "id": "3b65fd81-0ef2-4bf0-a4ab-b83461b37cbf",
   "metadata": {},
   "outputs": [
    {
     "data": {
      "text/plain": [
       "count    100.000000\n",
       "mean       5.670000\n",
       "std        2.925938\n",
       "min        1.000000\n",
       "25%        2.775000\n",
       "50%        6.300000\n",
       "75%        8.400000\n",
       "max       10.000000\n",
       "Name: grade, dtype: float64"
      ]
     },
     "execution_count": 79,
     "metadata": {},
     "output_type": "execute_result"
    }
   ],
   "source": [
    "sd['grade'].describe()"
   ]
  },
  {
   "cell_type": "markdown",
   "id": "616ded4c-2127-4bc0-9248-d4177e4b0551",
   "metadata": {},
   "source": [
    "#Student perfromance calculation"
   ]
  },
  {
   "cell_type": "code",
   "execution_count": null,
   "id": "0c279a40-53b8-4bd0-875f-735b2e55e116",
   "metadata": {},
   "outputs": [],
   "source": []
  }
 ],
 "metadata": {
  "kernelspec": {
   "display_name": "Python 3 (ipykernel)",
   "language": "python",
   "name": "python3"
  },
  "language_info": {
   "codemirror_mode": {
    "name": "ipython",
    "version": 3
   },
   "file_extension": ".py",
   "mimetype": "text/x-python",
   "name": "python",
   "nbconvert_exporter": "python",
   "pygments_lexer": "ipython3",
   "version": "3.13.2"
  },
  "widgets": {
   "application/vnd.jupyter.widget-state+json": {
    "state": {},
    "version_major": 2,
    "version_minor": 0
   }
  }
 },
 "nbformat": 4,
 "nbformat_minor": 5
}
